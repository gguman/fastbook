{
 "cells": [
  {
   "cell_type": "code",
   "execution_count": 1,
   "id": "62a540d0-f484-4cf1-8de4-0dffbb59f5c3",
   "metadata": {},
   "outputs": [],
   "source": [
    "import kaggle"
   ]
  },
  {
   "cell_type": "code",
   "execution_count": 2,
   "id": "5e6a28cb-d585-4735-b37d-2034ee3007ac",
   "metadata": {},
   "outputs": [
    {
     "name": "stdout",
     "output_type": "stream",
     "text": [
      "digit-recognizer.zip: Skipping, found more recently modified local copy (use --force to force download)\n"
     ]
    }
   ],
   "source": [
    "!/home/gguser01/.venvs/vfastai/bin/kaggle competitions download -c digit-recognizer"
   ]
  },
  {
   "cell_type": "code",
   "execution_count": 3,
   "id": "326b9936-590e-456a-bd93-1bb42c92c524",
   "metadata": {},
   "outputs": [],
   "source": [
    "import zipfile, torch, math, os, PIL, torchvision\n",
    "\n",
    "import pandas as pd\n",
    "import matplotlib.pyplot as plt\n",
    "import numpy as np"
   ]
  },
  {
   "cell_type": "code",
   "execution_count": 4,
   "id": "fed1da43-0538-49ef-ba32-ac2038165166",
   "metadata": {},
   "outputs": [
    {
     "data": {
      "text/plain": [
       "device(type='cpu')"
      ]
     },
     "execution_count": 4,
     "metadata": {},
     "output_type": "execute_result"
    }
   ],
   "source": [
    "device = torch.device('cuda:0') if torch.cuda.is_available() else torch.device('cpu'); device"
   ]
  },
  {
   "cell_type": "code",
   "execution_count": 5,
   "id": "36ace9e5-5ace-4e2f-aac5-c3bbf0c94067",
   "metadata": {},
   "outputs": [
    {
     "data": {
      "text/plain": [
       "[<ZipInfo filename='sample_submission.csv' compress_type=deflate file_size=240909 compress_size=62816>,\n",
       " <ZipInfo filename='test.csv' compress_type=deflate file_size=51118296 compress_size=6385439>,\n",
       " <ZipInfo filename='train.csv' compress_type=deflate file_size=76775041 compress_size=9605867>]"
      ]
     },
     "execution_count": 5,
     "metadata": {},
     "output_type": "execute_result"
    }
   ],
   "source": [
    "zf = zipfile.ZipFile('digit-recognizer.zip'); zf.filelist"
   ]
  },
  {
   "cell_type": "code",
   "execution_count": 6,
   "id": "cd5a3ff8-e003-4a43-9731-9a2523ddfec7",
   "metadata": {},
   "outputs": [],
   "source": [
    "train_df = pd.read_csv(zf.open('train.csv'), dtype='float32')\n",
    "test_df = pd.read_csv(zf.open('test.csv'), dtype='float32')"
   ]
  },
  {
   "cell_type": "code",
   "execution_count": 7,
   "id": "6bf0431f-222f-4148-ae91-56a95353be9d",
   "metadata": {},
   "outputs": [
    {
     "data": {
      "text/html": [
       "<div>\n",
       "<style scoped>\n",
       "    .dataframe tbody tr th:only-of-type {\n",
       "        vertical-align: middle;\n",
       "    }\n",
       "\n",
       "    .dataframe tbody tr th {\n",
       "        vertical-align: top;\n",
       "    }\n",
       "\n",
       "    .dataframe thead th {\n",
       "        text-align: right;\n",
       "    }\n",
       "</style>\n",
       "<table border=\"1\" class=\"dataframe\">\n",
       "  <thead>\n",
       "    <tr style=\"text-align: right;\">\n",
       "      <th></th>\n",
       "      <th>label</th>\n",
       "      <th>pixel0</th>\n",
       "      <th>pixel1</th>\n",
       "      <th>pixel2</th>\n",
       "      <th>pixel3</th>\n",
       "      <th>pixel4</th>\n",
       "      <th>pixel5</th>\n",
       "      <th>pixel6</th>\n",
       "      <th>pixel7</th>\n",
       "      <th>pixel8</th>\n",
       "      <th>...</th>\n",
       "      <th>pixel774</th>\n",
       "      <th>pixel775</th>\n",
       "      <th>pixel776</th>\n",
       "      <th>pixel777</th>\n",
       "      <th>pixel778</th>\n",
       "      <th>pixel779</th>\n",
       "      <th>pixel780</th>\n",
       "      <th>pixel781</th>\n",
       "      <th>pixel782</th>\n",
       "      <th>pixel783</th>\n",
       "    </tr>\n",
       "  </thead>\n",
       "  <tbody>\n",
       "    <tr>\n",
       "      <th>0</th>\n",
       "      <td>1.0</td>\n",
       "      <td>0.0</td>\n",
       "      <td>0.0</td>\n",
       "      <td>0.0</td>\n",
       "      <td>0.0</td>\n",
       "      <td>0.0</td>\n",
       "      <td>0.0</td>\n",
       "      <td>0.0</td>\n",
       "      <td>0.0</td>\n",
       "      <td>0.0</td>\n",
       "      <td>...</td>\n",
       "      <td>0.0</td>\n",
       "      <td>0.0</td>\n",
       "      <td>0.0</td>\n",
       "      <td>0.0</td>\n",
       "      <td>0.0</td>\n",
       "      <td>0.0</td>\n",
       "      <td>0.0</td>\n",
       "      <td>0.0</td>\n",
       "      <td>0.0</td>\n",
       "      <td>0.0</td>\n",
       "    </tr>\n",
       "    <tr>\n",
       "      <th>1</th>\n",
       "      <td>0.0</td>\n",
       "      <td>0.0</td>\n",
       "      <td>0.0</td>\n",
       "      <td>0.0</td>\n",
       "      <td>0.0</td>\n",
       "      <td>0.0</td>\n",
       "      <td>0.0</td>\n",
       "      <td>0.0</td>\n",
       "      <td>0.0</td>\n",
       "      <td>0.0</td>\n",
       "      <td>...</td>\n",
       "      <td>0.0</td>\n",
       "      <td>0.0</td>\n",
       "      <td>0.0</td>\n",
       "      <td>0.0</td>\n",
       "      <td>0.0</td>\n",
       "      <td>0.0</td>\n",
       "      <td>0.0</td>\n",
       "      <td>0.0</td>\n",
       "      <td>0.0</td>\n",
       "      <td>0.0</td>\n",
       "    </tr>\n",
       "    <tr>\n",
       "      <th>2</th>\n",
       "      <td>1.0</td>\n",
       "      <td>0.0</td>\n",
       "      <td>0.0</td>\n",
       "      <td>0.0</td>\n",
       "      <td>0.0</td>\n",
       "      <td>0.0</td>\n",
       "      <td>0.0</td>\n",
       "      <td>0.0</td>\n",
       "      <td>0.0</td>\n",
       "      <td>0.0</td>\n",
       "      <td>...</td>\n",
       "      <td>0.0</td>\n",
       "      <td>0.0</td>\n",
       "      <td>0.0</td>\n",
       "      <td>0.0</td>\n",
       "      <td>0.0</td>\n",
       "      <td>0.0</td>\n",
       "      <td>0.0</td>\n",
       "      <td>0.0</td>\n",
       "      <td>0.0</td>\n",
       "      <td>0.0</td>\n",
       "    </tr>\n",
       "    <tr>\n",
       "      <th>3</th>\n",
       "      <td>4.0</td>\n",
       "      <td>0.0</td>\n",
       "      <td>0.0</td>\n",
       "      <td>0.0</td>\n",
       "      <td>0.0</td>\n",
       "      <td>0.0</td>\n",
       "      <td>0.0</td>\n",
       "      <td>0.0</td>\n",
       "      <td>0.0</td>\n",
       "      <td>0.0</td>\n",
       "      <td>...</td>\n",
       "      <td>0.0</td>\n",
       "      <td>0.0</td>\n",
       "      <td>0.0</td>\n",
       "      <td>0.0</td>\n",
       "      <td>0.0</td>\n",
       "      <td>0.0</td>\n",
       "      <td>0.0</td>\n",
       "      <td>0.0</td>\n",
       "      <td>0.0</td>\n",
       "      <td>0.0</td>\n",
       "    </tr>\n",
       "    <tr>\n",
       "      <th>4</th>\n",
       "      <td>0.0</td>\n",
       "      <td>0.0</td>\n",
       "      <td>0.0</td>\n",
       "      <td>0.0</td>\n",
       "      <td>0.0</td>\n",
       "      <td>0.0</td>\n",
       "      <td>0.0</td>\n",
       "      <td>0.0</td>\n",
       "      <td>0.0</td>\n",
       "      <td>0.0</td>\n",
       "      <td>...</td>\n",
       "      <td>0.0</td>\n",
       "      <td>0.0</td>\n",
       "      <td>0.0</td>\n",
       "      <td>0.0</td>\n",
       "      <td>0.0</td>\n",
       "      <td>0.0</td>\n",
       "      <td>0.0</td>\n",
       "      <td>0.0</td>\n",
       "      <td>0.0</td>\n",
       "      <td>0.0</td>\n",
       "    </tr>\n",
       "  </tbody>\n",
       "</table>\n",
       "<p>5 rows × 785 columns</p>\n",
       "</div>"
      ],
      "text/plain": [
       "   label  pixel0  pixel1  pixel2  pixel3  pixel4  pixel5  pixel6  pixel7  \\\n",
       "0    1.0     0.0     0.0     0.0     0.0     0.0     0.0     0.0     0.0   \n",
       "1    0.0     0.0     0.0     0.0     0.0     0.0     0.0     0.0     0.0   \n",
       "2    1.0     0.0     0.0     0.0     0.0     0.0     0.0     0.0     0.0   \n",
       "3    4.0     0.0     0.0     0.0     0.0     0.0     0.0     0.0     0.0   \n",
       "4    0.0     0.0     0.0     0.0     0.0     0.0     0.0     0.0     0.0   \n",
       "\n",
       "   pixel8  ...  pixel774  pixel775  pixel776  pixel777  pixel778  pixel779  \\\n",
       "0     0.0  ...       0.0       0.0       0.0       0.0       0.0       0.0   \n",
       "1     0.0  ...       0.0       0.0       0.0       0.0       0.0       0.0   \n",
       "2     0.0  ...       0.0       0.0       0.0       0.0       0.0       0.0   \n",
       "3     0.0  ...       0.0       0.0       0.0       0.0       0.0       0.0   \n",
       "4     0.0  ...       0.0       0.0       0.0       0.0       0.0       0.0   \n",
       "\n",
       "   pixel780  pixel781  pixel782  pixel783  \n",
       "0       0.0       0.0       0.0       0.0  \n",
       "1       0.0       0.0       0.0       0.0  \n",
       "2       0.0       0.0       0.0       0.0  \n",
       "3       0.0       0.0       0.0       0.0  \n",
       "4       0.0       0.0       0.0       0.0  \n",
       "\n",
       "[5 rows x 785 columns]"
      ]
     },
     "execution_count": 7,
     "metadata": {},
     "output_type": "execute_result"
    }
   ],
   "source": [
    "train_df.head()"
   ]
  },
  {
   "cell_type": "code",
   "execution_count": 140,
   "id": "8e55f618-4e7c-404f-b2ad-8ba81c80d643",
   "metadata": {},
   "outputs": [],
   "source": [
    "class mnist_dataset(torch.utils.data.Dataset):\n",
    "    \n",
    "    def __init__(self, data, transforms=None, test=False):\n",
    "        self.data = data\n",
    "        self.transforms = transforms\n",
    "        self.test = test\n",
    "        \n",
    "    def __len__(self):\n",
    "        return self.data.shape[0]\n",
    "    \n",
    "    def __getitem__(self, idx):\n",
    "        \n",
    "        if not self.test:\n",
    "            img = self.data.iloc[idx].iloc[1:].div(255).values.reshape(28, 28, 1)\n",
    "            lbl = train_df.iloc[idx].label\n",
    "        else:\n",
    "            img = self.data.iloc[idx].div(255).values.reshape(28, 28, 1)\n",
    "            lbl = np.empty(0)\n",
    "        \n",
    "        if self.transforms: img = self.transforms(img)\n",
    "\n",
    "        return img, lbl"
   ]
  },
  {
   "cell_type": "code",
   "execution_count": 141,
   "id": "b0598e9b-73c1-4c0f-8bed-a8bf97a39b30",
   "metadata": {},
   "outputs": [
    {
     "name": "stdout",
     "output_type": "stream",
     "text": [
      "x torch.Size([2, 4]) (4, 1) True\n",
      "y torch.Size([8]) (1,) True\n",
      "w torch.Size([2, 4, 8]) (32, 8, 1) True\n",
      "z torch.Size([2, 2, 8]) (32, 16, 1) False\n",
      "z2 torch.Size([32]) (1,) True\n"
     ]
    }
   ],
   "source": [
    "#https://discuss.pytorch.org/t/whats-the-difference-between-torch-reshape-vs-torch-view/159172\n",
    "#reshape will return a view if possible and will trigger a copy otherwise as explained in the docs 108. If in doubt, you can use reshape if you do not explicitly expect a view of the tensor.\n",
    "#A view points to the same data stored in memory using a changed meta-data such as its shape and stride.\n",
    "x = torch.randn(2, 4); print('x', x.size(), x.stride(), x.is_contiguous())\n",
    "y = x.view(-1); print('y', y.size(), y.stride(), y.is_contiguous())\n",
    "\n",
    "w = torch.randn(2, 4, 8); print('w', w.size(), w.stride(), w.is_contiguous())\n",
    "z = w[:, ::2]; print('z', z.size(), z.stride(), z.is_contiguous())\n",
    "#z1 = z.view(-1) RuntimeError: view size is not compatible with input tensor's size...\n",
    "z2 = z.reshape(-1); print('z2', z2.size(), z2.stride(), z2.is_contiguous())"
   ]
  },
  {
   "cell_type": "code",
   "execution_count": 142,
   "id": "f8e2848b-3b8f-44c5-9c02-98cf966ba125",
   "metadata": {
    "scrolled": true
   },
   "outputs": [
    {
     "data": {
      "text/plain": [
       "tensor([[[0.0000, 0.0000, 0.0000, 0.0000, 0.0000, 0.0000, 0.0000, 0.0000,\n",
       "          0.0000, 0.0000, 0.0000, 0.0000, 0.0000, 0.0000, 0.0000, 0.0000,\n",
       "          0.0000, 0.0000, 0.0000, 0.0000, 0.0000, 0.0000, 0.0000, 0.0000,\n",
       "          0.0000, 0.0000, 0.0000, 0.0000],\n",
       "         [0.0000, 0.0000, 0.0000, 0.0000, 0.0000, 0.0000, 0.0000, 0.0000,\n",
       "          0.0000, 0.0000, 0.0000, 0.0000, 0.0000, 0.0000, 0.0000, 0.0000,\n",
       "          0.0000, 0.0000, 0.0000, 0.0000, 0.0000, 0.0000, 0.0000, 0.0000,\n",
       "          0.0000, 0.0000, 0.0000, 0.0000],\n",
       "         [0.0000, 0.0000, 0.0000, 0.0000, 0.0000, 0.0000, 0.0000, 0.0000,\n",
       "          0.0000, 0.0000, 0.0000, 0.0000, 0.0000, 0.0000, 0.0000, 0.0000,\n",
       "          0.0000, 0.0000, 0.0000, 0.0000, 0.0000, 0.0000, 0.0000, 0.0000,\n",
       "          0.0000, 0.0000, 0.0000, 0.0000],\n",
       "         [0.0000, 0.0000, 0.0000, 0.0000, 0.0000, 0.0000, 0.0000, 0.0000,\n",
       "          0.0000, 0.0000, 0.0000, 0.0000, 0.0000, 0.0000, 0.0000, 0.0000,\n",
       "          0.0000, 0.0000, 0.0000, 0.0000, 0.0000, 0.0000, 0.0000, 0.0000,\n",
       "          0.0000, 0.0000, 0.0000, 0.0000],\n",
       "         [0.0000, 0.0000, 0.0000, 0.0000, 0.0000, 0.0000, 0.0000, 0.0000,\n",
       "          0.0000, 0.0000, 0.0000, 0.0000, 0.0000, 0.0000, 0.0000, 0.0000,\n",
       "          0.0000, 0.0000, 0.0000, 0.0000, 0.7373, 1.0000, 0.3686, 0.0000,\n",
       "          0.0000, 0.0000, 0.0000, 0.0000],\n",
       "         [0.0000, 0.0000, 0.0000, 0.0000, 0.0000, 0.0000, 0.0000, 0.0000,\n",
       "          0.0000, 0.0000, 0.0000, 0.0000, 0.0000, 0.0000, 0.0000, 0.0000,\n",
       "          0.0000, 0.0000, 0.0000, 0.7490, 0.9804, 0.9922, 0.3647, 0.0000,\n",
       "          0.0000, 0.0000, 0.0000, 0.0000],\n",
       "         [0.0000, 0.0000, 0.0000, 0.0000, 0.0000, 0.0000, 0.0000, 0.0000,\n",
       "          0.0000, 0.0000, 0.0000, 0.0000, 0.0000, 0.0000, 0.0000, 0.0000,\n",
       "          0.0000, 0.0000, 0.4824, 0.9725, 0.9922, 0.6549, 0.0392, 0.0000,\n",
       "          0.0000, 0.0000, 0.0000, 0.0000],\n",
       "         [0.0000, 0.0000, 0.0000, 0.0000, 0.0000, 0.0000, 0.0000, 0.0000,\n",
       "          0.0000, 0.0000, 0.0000, 0.0000, 0.0000, 0.0000, 0.0000, 0.0000,\n",
       "          0.0000, 0.3137, 0.9686, 0.9922, 0.8157, 0.0510, 0.0000, 0.0000,\n",
       "          0.0000, 0.0000, 0.0000, 0.0000],\n",
       "         [0.0000, 0.0000, 0.0000, 0.0000, 0.0000, 0.0000, 0.0000, 0.0000,\n",
       "          0.0000, 0.0000, 0.0000, 0.0000, 0.0000, 0.0000, 0.0000, 0.0000,\n",
       "          0.1137, 0.8118, 0.9922, 0.9216, 0.3020, 0.0000, 0.0000, 0.0000,\n",
       "          0.0000, 0.0000, 0.0000, 0.0000],\n",
       "         [0.0000, 0.0000, 0.0000, 0.0000, 0.0000, 0.0000, 0.0000, 0.0000,\n",
       "          0.0000, 0.0000, 0.0000, 0.0000, 0.0000, 0.0000, 0.0000, 0.2118,\n",
       "          0.8196, 0.9922, 0.9922, 0.3451, 0.0000, 0.0000, 0.0000, 0.0000,\n",
       "          0.0000, 0.0000, 0.0000, 0.0000],\n",
       "         [0.0000, 0.0000, 0.0000, 0.0000, 0.0000, 0.0000, 0.0000, 0.0000,\n",
       "          0.0000, 0.0000, 0.0000, 0.0000, 0.0000, 0.0000, 0.3647, 0.9961,\n",
       "          0.9922, 0.9333, 0.6667, 0.0667, 0.0000, 0.0000, 0.0000, 0.0000,\n",
       "          0.0000, 0.0000, 0.0000, 0.0000],\n",
       "         [0.0000, 0.0000, 0.0000, 0.0000, 0.0000, 0.0000, 0.0000, 0.0000,\n",
       "          0.0000, 0.0000, 0.0000, 0.0000, 0.0000, 0.0902, 0.8235, 0.9961,\n",
       "          0.9922, 0.6235, 0.0000, 0.0000, 0.0000, 0.0000, 0.0000, 0.0000,\n",
       "          0.0000, 0.0000, 0.0000, 0.0000],\n",
       "         [0.0000, 0.0000, 0.0000, 0.0000, 0.0000, 0.0000, 0.0000, 0.0000,\n",
       "          0.0000, 0.0000, 0.0000, 0.0000, 0.0627, 0.8196, 0.9922, 0.9961,\n",
       "          0.9412, 0.3176, 0.0000, 0.0000, 0.0000, 0.0000, 0.0000, 0.0000,\n",
       "          0.0000, 0.0000, 0.0000, 0.0000],\n",
       "         [0.0000, 0.0000, 0.0000, 0.0000, 0.0000, 0.0000, 0.0000, 0.0000,\n",
       "          0.0000, 0.0000, 0.0000, 0.0000, 0.1059, 0.9922, 0.9922, 0.9961,\n",
       "          0.0510, 0.0000, 0.0000, 0.0000, 0.0000, 0.0000, 0.0000, 0.0000,\n",
       "          0.0000, 0.0000, 0.0000, 0.0000],\n",
       "         [0.0000, 0.0000, 0.0000, 0.0000, 0.0000, 0.0000, 0.0000, 0.0000,\n",
       "          0.0000, 0.0000, 0.0000, 0.0784, 0.8078, 0.9961, 0.9961, 0.7765,\n",
       "          0.0275, 0.0000, 0.0000, 0.0000, 0.0000, 0.0000, 0.0000, 0.0000,\n",
       "          0.0000, 0.0000, 0.0000, 0.0000],\n",
       "         [0.0000, 0.0000, 0.0000, 0.0000, 0.0000, 0.0000, 0.0000, 0.0000,\n",
       "          0.0000, 0.0000, 0.0000, 0.6588, 0.9922, 0.9922, 0.7686, 0.0275,\n",
       "          0.0000, 0.0000, 0.0000, 0.0000, 0.0000, 0.0000, 0.0000, 0.0000,\n",
       "          0.0000, 0.0000, 0.0000, 0.0000],\n",
       "         [0.0000, 0.0000, 0.0000, 0.0000, 0.0000, 0.0000, 0.0000, 0.0000,\n",
       "          0.0000, 0.0000, 0.0784, 0.7961, 0.9922, 0.9725, 0.2980, 0.0000,\n",
       "          0.0000, 0.0000, 0.0000, 0.0000, 0.0000, 0.0000, 0.0000, 0.0000,\n",
       "          0.0000, 0.0000, 0.0000, 0.0000],\n",
       "         [0.0000, 0.0000, 0.0000, 0.0000, 0.0000, 0.0000, 0.0000, 0.0000,\n",
       "          0.0000, 0.0863, 0.7373, 0.9922, 0.9608, 0.3647, 0.0000, 0.0000,\n",
       "          0.0000, 0.0000, 0.0000, 0.0000, 0.0000, 0.0000, 0.0000, 0.0000,\n",
       "          0.0000, 0.0000, 0.0000, 0.0000],\n",
       "         [0.0000, 0.0000, 0.0000, 0.0000, 0.0000, 0.0000, 0.0000, 0.0000,\n",
       "          0.0000, 0.4039, 0.9922, 0.9922, 0.7490, 0.0000, 0.0000, 0.0000,\n",
       "          0.0000, 0.0000, 0.0000, 0.0000, 0.0000, 0.0000, 0.0000, 0.0000,\n",
       "          0.0000, 0.0000, 0.0000, 0.0000],\n",
       "         [0.0000, 0.0000, 0.0000, 0.0000, 0.0000, 0.0000, 0.0000, 0.0000,\n",
       "          0.3490, 0.9412, 0.9922, 0.7647, 0.0980, 0.0000, 0.0000, 0.0000,\n",
       "          0.0000, 0.0000, 0.0000, 0.0000, 0.0000, 0.0000, 0.0000, 0.0000,\n",
       "          0.0000, 0.0000, 0.0000, 0.0000],\n",
       "         [0.0000, 0.0000, 0.0000, 0.0000, 0.0000, 0.0000, 0.0000, 0.0588,\n",
       "          0.8627, 0.9922, 0.9922, 0.3137, 0.0000, 0.0000, 0.0000, 0.0000,\n",
       "          0.0000, 0.0000, 0.0000, 0.0000, 0.0000, 0.0000, 0.0000, 0.0000,\n",
       "          0.0000, 0.0000, 0.0000, 0.0000],\n",
       "         [0.0000, 0.0000, 0.0000, 0.0000, 0.0000, 0.0000, 0.0000, 0.3686,\n",
       "          0.9922, 0.9922, 0.9922, 0.3686, 0.0000, 0.0000, 0.0000, 0.0000,\n",
       "          0.0000, 0.0000, 0.0000, 0.0000, 0.0000, 0.0000, 0.0000, 0.0000,\n",
       "          0.0000, 0.0000, 0.0000, 0.0000],\n",
       "         [0.0000, 0.0000, 0.0000, 0.0000, 0.0000, 0.0000, 0.0000, 0.3490,\n",
       "          0.9843, 0.9922, 0.9804, 0.5137, 0.0000, 0.0000, 0.0000, 0.0000,\n",
       "          0.0000, 0.0000, 0.0000, 0.0000, 0.0000, 0.0000, 0.0000, 0.0000,\n",
       "          0.0000, 0.0000, 0.0000, 0.0000],\n",
       "         [0.0000, 0.0000, 0.0000, 0.0000, 0.0000, 0.0000, 0.0000, 0.0000,\n",
       "          0.8392, 0.8549, 0.3725, 0.0000, 0.0000, 0.0000, 0.0000, 0.0000,\n",
       "          0.0000, 0.0000, 0.0000, 0.0000, 0.0000, 0.0000, 0.0000, 0.0000,\n",
       "          0.0000, 0.0000, 0.0000, 0.0000],\n",
       "         [0.0000, 0.0000, 0.0000, 0.0000, 0.0000, 0.0000, 0.0000, 0.0000,\n",
       "          0.0000, 0.0000, 0.0000, 0.0000, 0.0000, 0.0000, 0.0000, 0.0000,\n",
       "          0.0000, 0.0000, 0.0000, 0.0000, 0.0000, 0.0000, 0.0000, 0.0000,\n",
       "          0.0000, 0.0000, 0.0000, 0.0000],\n",
       "         [0.0000, 0.0000, 0.0000, 0.0000, 0.0000, 0.0000, 0.0000, 0.0000,\n",
       "          0.0000, 0.0000, 0.0000, 0.0000, 0.0000, 0.0000, 0.0000, 0.0000,\n",
       "          0.0000, 0.0000, 0.0000, 0.0000, 0.0000, 0.0000, 0.0000, 0.0000,\n",
       "          0.0000, 0.0000, 0.0000, 0.0000],\n",
       "         [0.0000, 0.0000, 0.0000, 0.0000, 0.0000, 0.0000, 0.0000, 0.0000,\n",
       "          0.0000, 0.0000, 0.0000, 0.0000, 0.0000, 0.0000, 0.0000, 0.0000,\n",
       "          0.0000, 0.0000, 0.0000, 0.0000, 0.0000, 0.0000, 0.0000, 0.0000,\n",
       "          0.0000, 0.0000, 0.0000, 0.0000],\n",
       "         [0.0000, 0.0000, 0.0000, 0.0000, 0.0000, 0.0000, 0.0000, 0.0000,\n",
       "          0.0000, 0.0000, 0.0000, 0.0000, 0.0000, 0.0000, 0.0000, 0.0000,\n",
       "          0.0000, 0.0000, 0.0000, 0.0000, 0.0000, 0.0000, 0.0000, 0.0000,\n",
       "          0.0000, 0.0000, 0.0000, 0.0000]]])"
      ]
     },
     "execution_count": 142,
     "metadata": {},
     "output_type": "execute_result"
    }
   ],
   "source": [
    "torch.from_numpy(train_df.iloc[0].iloc[1:].div(255).values).view(1, 28, 28)"
   ]
  },
  {
   "cell_type": "code",
   "execution_count": 143,
   "id": "73263976-5016-4a40-b9f6-e8a0f6118abe",
   "metadata": {},
   "outputs": [
    {
     "data": {
      "text/plain": [
       "42000"
      ]
     },
     "execution_count": 143,
     "metadata": {},
     "output_type": "execute_result"
    }
   ],
   "source": [
    "mnist_ds = mnist_dataset(\n",
    "    train_df, \n",
    "    transforms=torchvision.transforms.Compose([\n",
    "        torchvision.transforms.ToTensor()\n",
    "        ])\n",
    "    ); len(train_df)"
   ]
  },
  {
   "cell_type": "code",
   "execution_count": 144,
   "id": "e2bd6bd6-8041-4983-86fa-fc4a13b97869",
   "metadata": {},
   "outputs": [],
   "source": [
    "batch_size = 64\n",
    "validation_split = .2\n",
    "shuffle_dataset = True\n",
    "random_seed = 42\n",
    "\n",
    "generator = torch.Generator().manual_seed(random_seed)\n",
    "\n",
    "validation_size = int(len(mnist_ds) * validation_split)\n",
    "train_size = len(mnist_ds) - validation_size\n",
    "\n",
    "train_dataset, validation_dataset = torch.utils.data.random_split(\n",
    "    mnist_ds,\n",
    "    [train_size, validation_size],\n",
    "    generator=generator\n",
    ")\n",
    "\n",
    "train_dataloader = torch.utils.data.DataLoader(\n",
    "    train_dataset, \n",
    "    batch_size=batch_size, \n",
    "    shuffle=shuffle_dataset\n",
    ")\n",
    "validation_dataloader = torch.utils.data.DataLoader(\n",
    "    validation_dataset,\n",
    "    batch_size=batch_size,\n",
    "    shuffle=shuffle_dataset\n",
    ")"
   ]
  },
  {
   "cell_type": "code",
   "execution_count": 145,
   "id": "b2f92529-a839-4441-809c-270af0fef181",
   "metadata": {},
   "outputs": [
    {
     "name": "stdout",
     "output_type": "stream",
     "text": [
      "33600 8400\n"
     ]
    }
   ],
   "source": [
    "print(len(train_dataset), len(validation_dataset))"
   ]
  },
  {
   "cell_type": "code",
   "execution_count": 146,
   "id": "76c7dc3a-7f79-4e26-b967-690a260a19ff",
   "metadata": {
    "scrolled": true
   },
   "outputs": [
    {
     "name": "stdout",
     "output_type": "stream",
     "text": [
      "Feature batch shape: torch.Size([64, 1, 28, 28])\n",
      "Labels batch shape: torch.Size([64])\n",
      "Data in the batch: tensor([[[[0., 0., 0.,  ..., 0., 0., 0.],\n",
      "          [0., 0., 0.,  ..., 0., 0., 0.],\n",
      "          [0., 0., 0.,  ..., 0., 0., 0.],\n",
      "          ...,\n",
      "          [0., 0., 0.,  ..., 0., 0., 0.],\n",
      "          [0., 0., 0.,  ..., 0., 0., 0.],\n",
      "          [0., 0., 0.,  ..., 0., 0., 0.]]],\n",
      "\n",
      "\n",
      "        [[[0., 0., 0.,  ..., 0., 0., 0.],\n",
      "          [0., 0., 0.,  ..., 0., 0., 0.],\n",
      "          [0., 0., 0.,  ..., 0., 0., 0.],\n",
      "          ...,\n",
      "          [0., 0., 0.,  ..., 0., 0., 0.],\n",
      "          [0., 0., 0.,  ..., 0., 0., 0.],\n",
      "          [0., 0., 0.,  ..., 0., 0., 0.]]],\n",
      "\n",
      "\n",
      "        [[[0., 0., 0.,  ..., 0., 0., 0.],\n",
      "          [0., 0., 0.,  ..., 0., 0., 0.],\n",
      "          [0., 0., 0.,  ..., 0., 0., 0.],\n",
      "          ...,\n",
      "          [0., 0., 0.,  ..., 0., 0., 0.],\n",
      "          [0., 0., 0.,  ..., 0., 0., 0.],\n",
      "          [0., 0., 0.,  ..., 0., 0., 0.]]],\n",
      "\n",
      "\n",
      "        ...,\n",
      "\n",
      "\n",
      "        [[[0., 0., 0.,  ..., 0., 0., 0.],\n",
      "          [0., 0., 0.,  ..., 0., 0., 0.],\n",
      "          [0., 0., 0.,  ..., 0., 0., 0.],\n",
      "          ...,\n",
      "          [0., 0., 0.,  ..., 0., 0., 0.],\n",
      "          [0., 0., 0.,  ..., 0., 0., 0.],\n",
      "          [0., 0., 0.,  ..., 0., 0., 0.]]],\n",
      "\n",
      "\n",
      "        [[[0., 0., 0.,  ..., 0., 0., 0.],\n",
      "          [0., 0., 0.,  ..., 0., 0., 0.],\n",
      "          [0., 0., 0.,  ..., 0., 0., 0.],\n",
      "          ...,\n",
      "          [0., 0., 0.,  ..., 0., 0., 0.],\n",
      "          [0., 0., 0.,  ..., 0., 0., 0.],\n",
      "          [0., 0., 0.,  ..., 0., 0., 0.]]],\n",
      "\n",
      "\n",
      "        [[[0., 0., 0.,  ..., 0., 0., 0.],\n",
      "          [0., 0., 0.,  ..., 0., 0., 0.],\n",
      "          [0., 0., 0.,  ..., 0., 0., 0.],\n",
      "          ...,\n",
      "          [0., 0., 0.,  ..., 0., 0., 0.],\n",
      "          [0., 0., 0.,  ..., 0., 0., 0.],\n",
      "          [0., 0., 0.,  ..., 0., 0., 0.]]]])\n"
     ]
    }
   ],
   "source": [
    "train_features, train_labels = next(iter(train_dataloader))\n",
    "val_features, val_labels = next(iter(validation_dataloader))\n",
    "\n",
    "print(f'Feature batch shape: {train_features.size()}')\n",
    "print(f'Labels batch shape: {train_labels.size()}')\n",
    "print(f'Data in the batch: {train_features}')"
   ]
  },
  {
   "cell_type": "code",
   "execution_count": 150,
   "id": "b87fe90d-2e20-45b2-b393-1a5a54b57da6",
   "metadata": {},
   "outputs": [
    {
     "data": {
      "text/plain": [
       "tensor(7.)"
      ]
     },
     "execution_count": 150,
     "metadata": {},
     "output_type": "execute_result"
    },
    {
     "data": {
      "image/png": "[encoded data removed]",
      "text/plain": [
       "<Figure size 640x480 with 1 Axes>"
      ]
     },
     "metadata": {},
     "output_type": "display_data"
    }
   ],
   "source": [
    "plt.imshow(train_features[0].reshape(28, 28, 1), cmap='gray'); train_labels[0]"
   ]
  },
  {
   "cell_type": "code",
   "execution_count": 153,
   "id": "c2ff06b6-6859-4585-926d-ba8be1d4d8cd",
   "metadata": {},
   "outputs": [
    {
     "data": {
      "text/plain": [
       "tensor(9.)"
      ]
     },
     "execution_count": 153,
     "metadata": {},
     "output_type": "execute_result"
    },
    {
     "data": {
      "image/png": "[encoded data removed]",
      "text/plain": [
       "<Figure size 640x480 with 1 Axes>"
      ]
     },
     "metadata": {},
     "output_type": "display_data"
    }
   ],
   "source": [
    "plt.imshow(val_features[0].reshape(28, 28, 1), cmap='gray'); val_labels[0]"
   ]
  },
  {
   "cell_type": "code",
   "execution_count": 154,
   "id": "62ac739b-77c3-4452-aada-d0283bcdc565",
   "metadata": {},
   "outputs": [],
   "source": [
    "def train_model(model, train_loader, val_loader, loss, optimizer, num_epochs):\n",
    "    \n",
    "    #import ipdb; ipdb.set_trace()\n",
    "    \n",
    "    for epoch in range(num_epochs):\n",
    "        \n",
    "        model.train()\n",
    "\n",
    "        loss_accum = 0\n",
    "        correct_samples = 0\n",
    "        total_samples = 0\n",
    "\n",
    "        for i_step, (x, y) in enumerate(train_loader):\n",
    "            \n",
    "            x = x.to(device)\n",
    "            y = y.long().to(device)\n",
    "            \n",
    "            prediction = model(x)\n",
    "            loss_value = loss(prediction, y)\n",
    "            \n",
    "            loss_value.backward()\n",
    "            optimizer.step()\n",
    "            optimizer.zero_grad()\n",
    "            \n",
    "            _, indices = torch.max(prediction, 1)\n",
    "            correct_samples += torch.sum(indices == y)\n",
    "            total_samples += y.shape[0]\n",
    "\n",
    "            loss_accum += loss_value\n",
    "\n",
    "        ave_loss = loss_accum / i_step\n",
    "        train_acc = float(correct_samples) / total_samples\n",
    "        val_acc = compute_accuracy(model, val_loader)\n",
    "\n",
    "        print(\"Epoch: %i/%i, Average Loss: %f, Train acc: %f, Val acc: %f\" %\n",
    "            (epoch + 1, num_epochs, ave_loss, train_acc, val_acc)\n",
    "        )"
   ]
  },
  {
   "cell_type": "code",
   "execution_count": 155,
   "id": "8ff5ea26-b9f4-47ad-9a41-9eed8771c195",
   "metadata": {},
   "outputs": [],
   "source": [
    "def compute_accuracy(model, loader):\n",
    "\n",
    "    model.eval()\n",
    "    \n",
    "    correct_samples, total_samples = 0, 0\n",
    "\n",
    "    with torch.no_grad():\n",
    "\n",
    "        for i, (inputs, labels) in enumerate(loader):\n",
    "            x = inputs.to(device)\n",
    "            y = labels.to(device)\n",
    "\n",
    "            output = model(x)\n",
    "            prediction = torch.argmax(output, axis=1)\n",
    "        \n",
    "            correct_samples += torch.sum(prediction == y)\n",
    "            total_samples += y.shape[0]\n",
    "\n",
    "    return correct_samples / total_samples"
   ]
  },
  {
   "cell_type": "markdown",
   "id": "e8524d6c-7590-47f2-b293-8e80afce8903",
   "metadata": {},
   "source": [
    "# Linear"
   ]
  },
  {
   "cell_type": "code",
   "execution_count": null,
   "id": "edd76e32-3383-458c-982d-5848e5be46ae",
   "metadata": {},
   "outputs": [],
   "source": [
    "next(iter(train_dataloader))[0].shape  #torch.Size([64, 1, 28, 28])  \n",
    "torch.nn.Flatten()(next(iter(train_dataloader))[0]).shape    #torch.Size([64, 784])"
   ]
  },
  {
   "cell_type": "code",
   "execution_count": 161,
   "id": "3a52b4cc-549a-4765-a193-1d59caf37319",
   "metadata": {},
   "outputs": [],
   "source": [
    "class LinearModel(torch.nn.Module):\n",
    "    def __init__(self):\n",
    "        super(LinearModel, self).__init__()\n",
    "\n",
    "        self.flatten = torch.nn.Flatten()\n",
    "        self.linear = torch.nn.Linear(1 * 28 * 28, 10)\n",
    "\n",
    "    def forward(self, x):\n",
    "        x = self.flatten(x)\n",
    "        x = self.linear(x)\n",
    "\n",
    "        return x\n",
    "        \n",
    "model_0 = LinearModel()\n",
    "loss = torch.nn.CrossEntropyLoss()\n",
    "optimizer = torch.optim.SGD(model_0.parameters(), lr=.5)"
   ]
  },
  {
   "cell_type": "code",
   "execution_count": 162,
   "id": "9baa5fa1-b90e-4e66-96aa-8f6cca1d505a",
   "metadata": {},
   "outputs": [
    {
     "name": "stdout",
     "output_type": "stream",
     "text": [
      "Epoch: 1/10, Average Loss: 0.407702, Train acc: 0.881667, Val acc: 0.897381\n",
      "Epoch: 2/10, Average Loss: 0.307334, Train acc: 0.911786, Val acc: 0.905357\n",
      "Epoch: 3/10, Average Loss: 0.290246, Train acc: 0.916101, Val acc: 0.909405\n",
      "Epoch: 4/10, Average Loss: 0.280180, Train acc: 0.919970, Val acc: 0.909524\n",
      "Epoch: 5/10, Average Loss: 0.273484, Train acc: 0.922649, Val acc: 0.912143\n",
      "Epoch: 6/10, Average Loss: 0.267967, Train acc: 0.923512, Val acc: 0.910714\n",
      "Epoch: 7/10, Average Loss: 0.263386, Train acc: 0.924762, Val acc: 0.914762\n",
      "Epoch: 8/10, Average Loss: 0.260971, Train acc: 0.924673, Val acc: 0.916191\n",
      "Epoch: 9/10, Average Loss: 0.257996, Train acc: 0.927202, Val acc: 0.918571\n",
      "Epoch: 10/10, Average Loss: 0.255122, Train acc: 0.925714, Val acc: 0.912857\n"
     ]
    }
   ],
   "source": [
    "train_model(model_0, train_dataloader, validation_dataloader, loss, optimizer, 10)"
   ]
  },
  {
   "cell_type": "markdown",
   "id": "77b91883-0949-4cd8-b25b-2ace93b18da8",
   "metadata": {},
   "source": [
    "# Lenet"
   ]
  },
  {
   "cell_type": "code",
   "execution_count": 173,
   "id": "bc0e24f4-b833-4915-884f-318e06f0899c",
   "metadata": {},
   "outputs": [],
   "source": [
    "lr = 1e-1\n",
    "wd = 1e-5\n",
    "\n",
    "model_lenet = torch.nn.Sequential(\n",
    "    torch.nn.Conv2d(in_channels=1, out_channels=6, kernel_size=5, padding=0),\n",
    "    torch.nn.Tanh(),\n",
    "    torch.nn.AvgPool2d(2),\n",
    "    torch.nn.Conv2d(in_channels=6, out_channels=16, kernel_size=5, padding=0),\n",
    "    torch.nn.Tanh(),\n",
    "    torch.nn.AvgPool2d(2),\n",
    "\n",
    "    torch.nn.Flatten(),\n",
    "\n",
    "    torch.nn.Linear(256, 140),\n",
    "    torch.nn.Tanh(),\n",
    "    torch.nn.Linear(140, 84),\n",
    "    torch.nn.Tanh(),\n",
    "    torch.nn.Linear(84, 10)\n",
    ")\n",
    "\n",
    "loss = torch.nn.CrossEntropyLoss()\n",
    "optimizer = torch.optim.SGD(model_lenet.parameters(), lr=lr, weight_decay=wd)"
   ]
  },
  {
   "cell_type": "code",
   "execution_count": 174,
   "id": "96b69947-c09c-48a1-9254-2b5427564355",
   "metadata": {},
   "outputs": [
    {
     "name": "stdout",
     "output_type": "stream",
     "text": [
      "Epoch: 1/10, Average Loss: 0.702800, Train acc: 0.792679, Val acc: 0.920119\n",
      "Epoch: 2/10, Average Loss: 0.195082, Train acc: 0.941905, Val acc: 0.952143\n",
      "Epoch: 3/10, Average Loss: 0.117102, Train acc: 0.964167, Val acc: 0.964167\n",
      "Epoch: 4/10, Average Loss: 0.086202, Train acc: 0.973571, Val acc: 0.970833\n",
      "Epoch: 5/10, Average Loss: 0.068949, Train acc: 0.978750, Val acc: 0.974048\n",
      "Epoch: 6/10, Average Loss: 0.057935, Train acc: 0.981815, Val acc: 0.976071\n",
      "Epoch: 7/10, Average Loss: 0.049664, Train acc: 0.984732, Val acc: 0.979524\n",
      "Epoch: 8/10, Average Loss: 0.043979, Train acc: 0.986786, Val acc: 0.978810\n",
      "Epoch: 9/10, Average Loss: 0.039439, Train acc: 0.987619, Val acc: 0.982024\n",
      "Epoch: 10/10, Average Loss: 0.034656, Train acc: 0.989315, Val acc: 0.980238\n"
     ]
    }
   ],
   "source": [
    "train_model(model_lenet, train_dataloader, validation_dataloader, loss, optimizer, 10)"
   ]
  },
  {
   "cell_type": "code",
   "execution_count": 27,
   "id": "8b2d5cb1-fa17-4085-b829-4a3f78366fcb",
   "metadata": {},
   "outputs": [],
   "source": [
    "test_dataset = mnist_dataset(test_df, linear=False, test=True)\n",
    "test_dataload = torch.utils.data.DataLoader(\n",
    "    test_dataset, batch_size=len(test_dataset)\n",
    ")"
   ]
  },
  {
   "cell_type": "code",
   "execution_count": null,
   "id": "1d1b07b8-a436-46a5-8e24-fd3d4d2151de",
   "metadata": {},
   "outputs": [],
   "source": [
    "test_res = model_lenet(next(iter(test_dataload))).argmax(dim=1)"
   ]
  },
  {
   "cell_type": "code",
   "execution_count": null,
   "id": "5da8e851-d28b-4a62-a7c1-b0cabbda5ce9",
   "metadata": {},
   "outputs": [],
   "source": [
    "len(test_res)"
   ]
  },
  {
   "cell_type": "code",
   "execution_count": null,
   "id": "84dd9905-0879-45fe-9701-c15391d92292",
   "metadata": {},
   "outputs": [],
   "source": [
    "pd.DataFrame(\n",
    "    {\n",
    "        'ImageId':range(1, len(test_res)+1),\n",
    "        'Label': test_res\n",
    "    }\n",
    ").to_csv('submission_131223_Lenet_0.csv', sep=',', index=False)"
   ]
  },
  {
   "cell_type": "code",
   "execution_count": null,
   "id": "e95aad3c-889d-4b7f-8b65-07535b62b894",
   "metadata": {},
   "outputs": [],
   "source": [
    "torch.save(model_lenet, '1_lenet_0986786.pt')"
   ]
  },
  {
   "cell_type": "markdown",
   "id": "18391eff-affc-42b4-885d-8d4dfead9842",
   "metadata": {},
   "source": [
    "# Capsule Network\n",
    "https://github.com/gram-ai/capsule-networks/"
   ]
  },
  {
   "cell_type": "code",
   "execution_count": 30,
   "id": "2152f429-f2b4-4e1c-ad3a-72815f4eb7bd",
   "metadata": {},
   "outputs": [
    {
     "data": {
      "text/html": [
       "\n",
       "        <iframe\n",
       "            width=\"720\"\n",
       "            height=\"405\"\n",
       "            src=\"https://www.youtube.com/embed/pPN8d0E3900\"\n",
       "            frameborder=\"0\"\n",
       "            allowfullscreen\n",
       "            \n",
       "        ></iframe>\n",
       "        "
      ],
      "text/plain": [
       "<IPython.lib.display.IFrame at 0x7f6836e84510>"
      ]
     },
     "execution_count": 30,
     "metadata": {},
     "output_type": "execute_result"
    }
   ],
   "source": [
    "import IPython\n",
    "IPython.display.IFrame('https://www.youtube.com/embed/pPN8d0E3900', width=720, height=405)"
   ]
  },
  {
   "cell_type": "code",
   "execution_count": 31,
   "id": "8879e421-29d2-4575-8886-503f03039070",
   "metadata": {},
   "outputs": [
    {
     "data": {
      "text/html": [
       "\n",
       "        <iframe\n",
       "            width=\"720\"\n",
       "            height=\"405\"\n",
       "            src=\"https://www.youtube.com/embed/2Kawrd5szHE\"\n",
       "            frameborder=\"0\"\n",
       "            allowfullscreen\n",
       "            \n",
       "        ></iframe>\n",
       "        "
      ],
      "text/plain": [
       "<IPython.lib.display.IFrame at 0x7f6836579210>"
      ]
     },
     "execution_count": 31,
     "metadata": {},
     "output_type": "execute_result"
    }
   ],
   "source": [
    "IPython.display.IFrame('https://www.youtube.com/embed/2Kawrd5szHE', width=720, height=405)"
   ]
  },
  {
   "cell_type": "code",
   "execution_count": 32,
   "id": "65e20c95-c9a7-438d-87cb-cbb20e928f97",
   "metadata": {},
   "outputs": [],
   "source": [
    "BATCH_SIZE = 100\n",
    "NUM_CLASSES = 10\n",
    "NUM_EPOCHS = 500\n",
    "NUM_ROUTING_ITERATIONS = 3"
   ]
  },
  {
   "cell_type": "code",
   "execution_count": 33,
   "id": "1b529fd5-59a9-4a15-a011-49c0b350f013",
   "metadata": {},
   "outputs": [],
   "source": [
    "def softmax(x, dim=1):\n",
    "    transposed_x = x.transpose(dim, len(x.size()) - 1)\n",
    "    softmaxed = torch.nn.functional.softmax(transposed_input.contiguous().view(-1, transposed_input.size(-1)), dim=-1)\n",
    "    return softmaxed_output.view(*transposed_x.size()).transpose(dim, len(ч.size()) - 1)\n",
    "    \n",
    "class CapsuleLayer(torch.nn.Module):\n",
    "    def __init__(self, num_capsules, num_route_nodes, in_channels, out_channels,\n",
    "                 kernel_size=None, stride=None, num_iterations=NUM_ROUTING_ITERATIONS):\n",
    "        super(CapsuleLayer, self).__init__()\n",
    "\n",
    "        self.num_route_nodes = num_route_nodes\n",
    "        self.num_iterations = num_iterations\n",
    "        self.num_capsules = num_capsules\n",
    "\n",
    "        if num_route_nodes != -1:\n",
    "            self.route_weights = torch.nn.Parameter(\n",
    "                torch.randn(num_capsules, num_route_nodes, in_channels, out_channels)\n",
    "            )\n",
    "        else:\n",
    "            self.capsules = torch.nn.ModuleList(\n",
    "                [torch.nn.Conv2d(in_channels, out_channels, kernel_size=kernel_size, stride=stride, padding=0) for _ in range(num_capsules)])\n",
    "    \n",
    "    def squash(self, tensor, dim=-1, epsilon=1e-7):\n",
    "        squared_norm = (tensor ** 2).sum(dim=dim, keepdim=True)\n",
    "        scale = squared_norm / (1 + squared_norm)\n",
    "        return scale * tensor / torch.sqrt(squared_norm + epsilon)\n",
    "\n",
    "    def forward(self, x):\n",
    "        if self.num_route_nodes != -1:\n",
    "            priors = x[None, :, :, None, :] @ self.route_weights[:, None, :, :, :]\n",
    "\n",
    "            logits = torch.autograd.Variable(torch.zeros(*priors.size()))    #.cuda()\n",
    "            for i in range(self.num_iterations):\n",
    "                probs = softmax(logits, dim=2)\n",
    "                outputs = self.squash((probs * priors).sum(dim=2, keepdim=True))\n",
    "\n",
    "                if i != self.num_iterations - 1:\n",
    "                    delta_logits = (priors * outputs).sum(dim=-1, keepdim=True)\n",
    "                    logits = logits + delta_logits\n",
    "        else:\n",
    "            outputs = [capsule(x).view(x.size(0), -1, 1) for capsule in self.capsules]\n",
    "            outputs = torch.cat(outputs, dim=-1)\n",
    "            outputs = self.squash(outputs)\n",
    "        return outputs\n",
    "\n",
    "class CapsuleNet(torch.nn.Module):\n",
    "    def __init__(self):\n",
    "        super(CapsuleNet, self).__init__()\n",
    "\n",
    "        self.conv1 = torch.nn.Conv2d(in_channels=1, out_channels=256, kernel_size=9, stride=1)\n",
    "        self.primary_capsules = CapsuleLayer(num_capsules=8, num_route_nodes=-1, in_channels=256, out_channels=32, kernel_size=9, stride=2)\n",
    "        self.digit_capsules = CapsuleLayer(num_capsules=NUM_CLASSES, num_route_nodes=32*6*6, in_channels=8, out_channels=16)\n",
    "\n",
    "        self.decoder = torch.nn.Sequential(\n",
    "            torch.nn.Linear(16 * NUM_CLASSES, 512),\n",
    "            torch.nn.ReLU(inplace=True),\n",
    "            torch.nn.Linear(512, 1024),\n",
    "            torch.nn.ReLU(inplace=True),\n",
    "            torch.nn.Linear(1024, 784),\n",
    "            torch.nn.Sigmoid()\n",
    "        )\n",
    "    \n",
    "    def forward(self, x, y=None):\n",
    "        x = torch.nn.Unflatten(1, (1, 28, 28))(x)\n",
    "        x = self.conv1(x)\n",
    "        x = torch.nn.functional.relu(x, inplace=True)\n",
    "        x = self.primary_capsules(x)\n",
    "        x = self.digit_capsules(x).squeeze().transpose(0, 1)\n",
    "\n",
    "        classes = (x ** 2).sum(dim=-1) ** 0.5\n",
    "        classes = torch.nn.functional.softmax(classes, dim=-1)\n",
    "\n",
    "        if y is None:\n",
    "            # In all batches, get the most active capsule\n",
    "            _, max_length_indices = classes.max(dim=1)\n",
    "            y = torch.autograd.Variable(torch.eye(NUM_CLASSES)).index_select(dim=0, index=max_length_indices.data)\n",
    "            #y = torch.autograd.Variable(torch.eye(NUM_CLASSES)).cuda().index_select(dim=0, index=max_length_indices.data)\n",
    "\n",
    "        reconstructions = self.decoder((x * y[:, :, None]).contiguous().view(x.size(0), -1))\n",
    "\n",
    "        return classes, reconstructions\n",
    "\n",
    "class CapsuleLoss(torch.nn.Module):\n",
    "    def __init__(self):\n",
    "        super(CapsuleLoss, self).__init__()\n",
    "        self.reconstruction_loss = torch.nn.MSELoss(reduction='sum')\n",
    "\n",
    "    def forward(self, images, labels, classes, reconstructions):\n",
    "        left = torch.nn.functional.relu(0.9 - classes, inplace=True) ** 2\n",
    "        right = torch.nn.functional.relu(classes - 0.1, inplace=True) ** 2\n",
    "\n",
    "        margin_loss = labels * left + 0.5 * (1. - labels) * right\n",
    "        margin_loss = margin_loss.sum()\n",
    "\n",
    "        assert torch.numel(images) == torch.numel(reconstructions)\n",
    "        images = images.view(reconstructions.size()[0], -1)\n",
    "        reconstruction_loss = self.reconstruction_loss(reconstructions, images)\n",
    "\n",
    "        return (margin_loss + 0.0005 * reconstruction_loss) / images.size(0)"
   ]
  },
  {
   "cell_type": "code",
   "execution_count": 45,
   "id": "34272a00-5b53-4b30-a535-b1942de11a5f",
   "metadata": {},
   "outputs": [],
   "source": [
    "def train_capsule_model(model, train_loader, val_loader, loss, optimizer, num_epochs):\n",
    "    \n",
    "    for epoch in range(num_epochs):\n",
    "        \n",
    "        model.train()\n",
    "\n",
    "        loss_accum = 0\n",
    "        correct_samples = 0\n",
    "        total_samples = 0\n",
    "\n",
    "        for i_step, (x, y) in enumerate(train_loader):\n",
    "            \n",
    "            x = x.to(device)\n",
    "            y = torch.eye(10).index_select(dim=0, index=y.long())\n",
    "            #y = y.long().to(device)\n",
    "            \n",
    "            classes, reconstructions = model(x, y)\n",
    "            loss_value = loss(x, y, classes, reconstructions)\n",
    "            \n",
    "            loss_value.backward()\n",
    "            optimizer.step()\n",
    "            optimizer.zero_grad()\n",
    "            \n",
    "            loss_accum += loss_value.item()\n",
    "\n",
    "        ave_loss = loss_accum / i_step\n",
    "        print(ave_loss)\n",
    "        #train_acc = float(correct_samples) / total_samples\n",
    "        #val_acc = compute_accuracy(model, val_loader)\n",
    "\n",
    "        #print(\"Epoch: %i/%i, Average Loss: %f, Train acc: %f, Val acc: %f\" %\n",
    "        #    (epoch + 1, num_epochs, ave_loss, train_acc, val_acc)\n",
    "        #)"
   ]
  },
  {
   "cell_type": "code",
   "execution_count": 46,
   "id": "dc0b5889-d806-41e8-a0dc-b0b09a57261a",
   "metadata": {},
   "outputs": [],
   "source": [
    "model_capsule = CapsuleNet()\n",
    "optimizer = torch.optim.Adam(model_capsule.parameters())\n",
    "loss = CapsuleLoss()"
   ]
  },
  {
   "cell_type": "code",
   "execution_count": 47,
   "id": "403d982e-4d97-41a1-bda2-184b288b0562",
   "metadata": {},
   "outputs": [
    {
     "ename": "KeyboardInterrupt",
     "evalue": "",
     "output_type": "error",
     "traceback": [
      "\u001b[0;31m---------------------------------------------------------------------------\u001b[0m",
      "\u001b[0;31mKeyboardInterrupt\u001b[0m                         Traceback (most recent call last)",
      "Cell \u001b[0;32mIn[47], line 1\u001b[0m\n\u001b[0;32m----> 1\u001b[0m \u001b[43mtrain_capsule_model\u001b[49m\u001b[43m(\u001b[49m\u001b[43mmodel_capsule\u001b[49m\u001b[43m,\u001b[49m\u001b[43m \u001b[49m\u001b[43mtrain_dataloader_conv\u001b[49m\u001b[43m,\u001b[49m\u001b[43m \u001b[49m\u001b[43mvalidation_dataloader_conv\u001b[49m\u001b[43m,\u001b[49m\u001b[43m \u001b[49m\u001b[43mloss\u001b[49m\u001b[43m,\u001b[49m\u001b[43m \u001b[49m\u001b[43moptimizer\u001b[49m\u001b[43m,\u001b[49m\u001b[43m \u001b[49m\u001b[38;5;241;43m5\u001b[39;49m\u001b[43m)\u001b[49m\n",
      "Cell \u001b[0;32mIn[45], line 20\u001b[0m, in \u001b[0;36mtrain_capsule_model\u001b[0;34m(model, train_loader, val_loader, loss, optimizer, num_epochs)\u001b[0m\n\u001b[1;32m     17\u001b[0m classes, reconstructions \u001b[38;5;241m=\u001b[39m model(x, y)\n\u001b[1;32m     18\u001b[0m loss_value \u001b[38;5;241m=\u001b[39m loss(x, y, classes, reconstructions)\n\u001b[0;32m---> 20\u001b[0m \u001b[43mloss_value\u001b[49m\u001b[38;5;241;43m.\u001b[39;49m\u001b[43mbackward\u001b[49m\u001b[43m(\u001b[49m\u001b[43m)\u001b[49m\n\u001b[1;32m     21\u001b[0m optimizer\u001b[38;5;241m.\u001b[39mstep()\n\u001b[1;32m     22\u001b[0m optimizer\u001b[38;5;241m.\u001b[39mzero_grad()\n",
      "File \u001b[0;32m~/.venvs/vfastai/lib/python3.11/site-packages/torch/_tensor.py:492\u001b[0m, in \u001b[0;36mTensor.backward\u001b[0;34m(self, gradient, retain_graph, create_graph, inputs)\u001b[0m\n\u001b[1;32m    482\u001b[0m \u001b[38;5;28;01mif\u001b[39;00m has_torch_function_unary(\u001b[38;5;28mself\u001b[39m):\n\u001b[1;32m    483\u001b[0m     \u001b[38;5;28;01mreturn\u001b[39;00m handle_torch_function(\n\u001b[1;32m    484\u001b[0m         Tensor\u001b[38;5;241m.\u001b[39mbackward,\n\u001b[1;32m    485\u001b[0m         (\u001b[38;5;28mself\u001b[39m,),\n\u001b[0;32m   (...)\u001b[0m\n\u001b[1;32m    490\u001b[0m         inputs\u001b[38;5;241m=\u001b[39minputs,\n\u001b[1;32m    491\u001b[0m     )\n\u001b[0;32m--> 492\u001b[0m \u001b[43mtorch\u001b[49m\u001b[38;5;241;43m.\u001b[39;49m\u001b[43mautograd\u001b[49m\u001b[38;5;241;43m.\u001b[39;49m\u001b[43mbackward\u001b[49m\u001b[43m(\u001b[49m\n\u001b[1;32m    493\u001b[0m \u001b[43m    \u001b[49m\u001b[38;5;28;43mself\u001b[39;49m\u001b[43m,\u001b[49m\u001b[43m \u001b[49m\u001b[43mgradient\u001b[49m\u001b[43m,\u001b[49m\u001b[43m \u001b[49m\u001b[43mretain_graph\u001b[49m\u001b[43m,\u001b[49m\u001b[43m \u001b[49m\u001b[43mcreate_graph\u001b[49m\u001b[43m,\u001b[49m\u001b[43m \u001b[49m\u001b[43minputs\u001b[49m\u001b[38;5;241;43m=\u001b[39;49m\u001b[43minputs\u001b[49m\n\u001b[1;32m    494\u001b[0m \u001b[43m\u001b[49m\u001b[43m)\u001b[49m\n",
      "File \u001b[0;32m~/.venvs/vfastai/lib/python3.11/site-packages/torch/autograd/__init__.py:251\u001b[0m, in \u001b[0;36mbackward\u001b[0;34m(tensors, grad_tensors, retain_graph, create_graph, grad_variables, inputs)\u001b[0m\n\u001b[1;32m    246\u001b[0m     retain_graph \u001b[38;5;241m=\u001b[39m create_graph\n\u001b[1;32m    248\u001b[0m \u001b[38;5;66;03m# The reason we repeat the same comment below is that\u001b[39;00m\n\u001b[1;32m    249\u001b[0m \u001b[38;5;66;03m# some Python versions print out the first line of a multi-line function\u001b[39;00m\n\u001b[1;32m    250\u001b[0m \u001b[38;5;66;03m# calls in the traceback and some print out the last line\u001b[39;00m\n\u001b[0;32m--> 251\u001b[0m \u001b[43mVariable\u001b[49m\u001b[38;5;241;43m.\u001b[39;49m\u001b[43m_execution_engine\u001b[49m\u001b[38;5;241;43m.\u001b[39;49m\u001b[43mrun_backward\u001b[49m\u001b[43m(\u001b[49m\u001b[43m  \u001b[49m\u001b[38;5;66;43;03m# Calls into the C++ engine to run the backward pass\u001b[39;49;00m\n\u001b[1;32m    252\u001b[0m \u001b[43m    \u001b[49m\u001b[43mtensors\u001b[49m\u001b[43m,\u001b[49m\n\u001b[1;32m    253\u001b[0m \u001b[43m    \u001b[49m\u001b[43mgrad_tensors_\u001b[49m\u001b[43m,\u001b[49m\n\u001b[1;32m    254\u001b[0m \u001b[43m    \u001b[49m\u001b[43mretain_graph\u001b[49m\u001b[43m,\u001b[49m\n\u001b[1;32m    255\u001b[0m \u001b[43m    \u001b[49m\u001b[43mcreate_graph\u001b[49m\u001b[43m,\u001b[49m\n\u001b[1;32m    256\u001b[0m \u001b[43m    \u001b[49m\u001b[43minputs\u001b[49m\u001b[43m,\u001b[49m\n\u001b[1;32m    257\u001b[0m \u001b[43m    \u001b[49m\u001b[43mallow_unreachable\u001b[49m\u001b[38;5;241;43m=\u001b[39;49m\u001b[38;5;28;43;01mTrue\u001b[39;49;00m\u001b[43m,\u001b[49m\n\u001b[1;32m    258\u001b[0m \u001b[43m    \u001b[49m\u001b[43maccumulate_grad\u001b[49m\u001b[38;5;241;43m=\u001b[39;49m\u001b[38;5;28;43;01mTrue\u001b[39;49;00m\u001b[43m,\u001b[49m\n\u001b[1;32m    259\u001b[0m \u001b[43m\u001b[49m\u001b[43m)\u001b[49m\n",
      "\u001b[0;31mKeyboardInterrupt\u001b[0m: "
     ]
    }
   ],
   "source": [
    "train_capsule_model(model_capsule, train_dataloader_conv, validation_dataloader_conv, loss, optimizer, 5)"
   ]
  },
  {
   "cell_type": "code",
   "execution_count": 38,
   "id": "d9f29446-a5b0-4f18-8b99-2dfb30790903",
   "metadata": {},
   "outputs": [],
   "source": [
    "#to be continued"
   ]
  },
  {
   "cell_type": "code",
   "execution_count": null,
   "id": "207d811f-743c-4554-a594-d33324558c6f",
   "metadata": {},
   "outputs": [],
   "source": []
  }
 ],
 "metadata": {
  "kernelspec": {
   "display_name": "fast.ai",
   "language": "python",
   "name": "fastai"
  },
  "language_info": {
   "codemirror_mode": {
    "name": "ipython",
    "version": 3
   },
   "file_extension": ".py",
   "mimetype": "text/x-python",
   "name": "python",
   "nbconvert_exporter": "python",
   "pygments_lexer": "ipython3",
   "version": "3.11.2"
  }
 },
 "nbformat": 4,
 "nbformat_minor": 5
}
