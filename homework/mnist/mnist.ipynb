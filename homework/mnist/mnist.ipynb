{
 "cells": [
  {
   "cell_type": "code",
   "execution_count": 1,
   "id": "62a540d0-f484-4cf1-8de4-0dffbb59f5c3",
   "metadata": {},
   "outputs": [],
   "source": [
    "import kaggle"
   ]
  },
  {
   "cell_type": "code",
   "execution_count": 2,
   "id": "5e6a28cb-d585-4735-b37d-2034ee3007ac",
   "metadata": {},
   "outputs": [
    {
     "name": "stdout",
     "output_type": "stream",
     "text": [
      "digit-recognizer.zip: Skipping, found more recently modified local copy (use --force to force download)\n"
     ]
    }
   ],
   "source": [
    "!/home/gguser01/.venvs/vfastai/bin/kaggle competitions download -c digit-recognizer"
   ]
  },
  {
   "cell_type": "code",
   "execution_count": 363,
   "id": "326b9936-590e-456a-bd93-1bb42c92c524",
   "metadata": {},
   "outputs": [],
   "source": [
    "import zipfile, torch, math, os, PIL, torchvision\n",
    "\n",
    "import pandas as pd\n",
    "import matplotlib.pyplot as plt\n",
    "import numpy as np"
   ]
  },
  {
   "cell_type": "code",
   "execution_count": 151,
   "id": "fed1da43-0538-49ef-ba32-ac2038165166",
   "metadata": {},
   "outputs": [
    {
     "data": {
      "text/plain": [
       "device(type='cpu')"
      ]
     },
     "execution_count": 151,
     "metadata": {},
     "output_type": "execute_result"
    }
   ],
   "source": [
    "device = torch.device('cuda:0') if torch.cuda.is_available() else torch.device('cpu'); device"
   ]
  },
  {
   "cell_type": "code",
   "execution_count": 4,
   "id": "36ace9e5-5ace-4e2f-aac5-c3bbf0c94067",
   "metadata": {},
   "outputs": [],
   "source": [
    "zf = zipfile.ZipFile('digit-recognizer.zip'); zf.filelist"
   ]
  },
  {
   "cell_type": "code",
   "execution_count": 152,
   "id": "cd5a3ff8-e003-4a43-9731-9a2523ddfec7",
   "metadata": {},
   "outputs": [],
   "source": [
    "train_df = pd.read_csv(zf.open('train.csv'), dtype='float32')\n",
    "test_df = pd.read_csv(zf.open('test.csv'), dtype='float32')"
   ]
  },
  {
   "cell_type": "code",
   "execution_count": 153,
   "id": "6bf0431f-222f-4148-ae91-56a95353be9d",
   "metadata": {},
   "outputs": [
    {
     "data": {
      "text/html": [
       "<div>\n",
       "<style scoped>\n",
       "    .dataframe tbody tr th:only-of-type {\n",
       "        vertical-align: middle;\n",
       "    }\n",
       "\n",
       "    .dataframe tbody tr th {\n",
       "        vertical-align: top;\n",
       "    }\n",
       "\n",
       "    .dataframe thead th {\n",
       "        text-align: right;\n",
       "    }\n",
       "</style>\n",
       "<table border=\"1\" class=\"dataframe\">\n",
       "  <thead>\n",
       "    <tr style=\"text-align: right;\">\n",
       "      <th></th>\n",
       "      <th>label</th>\n",
       "      <th>pixel0</th>\n",
       "      <th>pixel1</th>\n",
       "      <th>pixel2</th>\n",
       "      <th>pixel3</th>\n",
       "      <th>pixel4</th>\n",
       "      <th>pixel5</th>\n",
       "      <th>pixel6</th>\n",
       "      <th>pixel7</th>\n",
       "      <th>pixel8</th>\n",
       "      <th>...</th>\n",
       "      <th>pixel774</th>\n",
       "      <th>pixel775</th>\n",
       "      <th>pixel776</th>\n",
       "      <th>pixel777</th>\n",
       "      <th>pixel778</th>\n",
       "      <th>pixel779</th>\n",
       "      <th>pixel780</th>\n",
       "      <th>pixel781</th>\n",
       "      <th>pixel782</th>\n",
       "      <th>pixel783</th>\n",
       "    </tr>\n",
       "  </thead>\n",
       "  <tbody>\n",
       "    <tr>\n",
       "      <th>0</th>\n",
       "      <td>1.0</td>\n",
       "      <td>0.0</td>\n",
       "      <td>0.0</td>\n",
       "      <td>0.0</td>\n",
       "      <td>0.0</td>\n",
       "      <td>0.0</td>\n",
       "      <td>0.0</td>\n",
       "      <td>0.0</td>\n",
       "      <td>0.0</td>\n",
       "      <td>0.0</td>\n",
       "      <td>...</td>\n",
       "      <td>0.0</td>\n",
       "      <td>0.0</td>\n",
       "      <td>0.0</td>\n",
       "      <td>0.0</td>\n",
       "      <td>0.0</td>\n",
       "      <td>0.0</td>\n",
       "      <td>0.0</td>\n",
       "      <td>0.0</td>\n",
       "      <td>0.0</td>\n",
       "      <td>0.0</td>\n",
       "    </tr>\n",
       "    <tr>\n",
       "      <th>1</th>\n",
       "      <td>0.0</td>\n",
       "      <td>0.0</td>\n",
       "      <td>0.0</td>\n",
       "      <td>0.0</td>\n",
       "      <td>0.0</td>\n",
       "      <td>0.0</td>\n",
       "      <td>0.0</td>\n",
       "      <td>0.0</td>\n",
       "      <td>0.0</td>\n",
       "      <td>0.0</td>\n",
       "      <td>...</td>\n",
       "      <td>0.0</td>\n",
       "      <td>0.0</td>\n",
       "      <td>0.0</td>\n",
       "      <td>0.0</td>\n",
       "      <td>0.0</td>\n",
       "      <td>0.0</td>\n",
       "      <td>0.0</td>\n",
       "      <td>0.0</td>\n",
       "      <td>0.0</td>\n",
       "      <td>0.0</td>\n",
       "    </tr>\n",
       "    <tr>\n",
       "      <th>2</th>\n",
       "      <td>1.0</td>\n",
       "      <td>0.0</td>\n",
       "      <td>0.0</td>\n",
       "      <td>0.0</td>\n",
       "      <td>0.0</td>\n",
       "      <td>0.0</td>\n",
       "      <td>0.0</td>\n",
       "      <td>0.0</td>\n",
       "      <td>0.0</td>\n",
       "      <td>0.0</td>\n",
       "      <td>...</td>\n",
       "      <td>0.0</td>\n",
       "      <td>0.0</td>\n",
       "      <td>0.0</td>\n",
       "      <td>0.0</td>\n",
       "      <td>0.0</td>\n",
       "      <td>0.0</td>\n",
       "      <td>0.0</td>\n",
       "      <td>0.0</td>\n",
       "      <td>0.0</td>\n",
       "      <td>0.0</td>\n",
       "    </tr>\n",
       "    <tr>\n",
       "      <th>3</th>\n",
       "      <td>4.0</td>\n",
       "      <td>0.0</td>\n",
       "      <td>0.0</td>\n",
       "      <td>0.0</td>\n",
       "      <td>0.0</td>\n",
       "      <td>0.0</td>\n",
       "      <td>0.0</td>\n",
       "      <td>0.0</td>\n",
       "      <td>0.0</td>\n",
       "      <td>0.0</td>\n",
       "      <td>...</td>\n",
       "      <td>0.0</td>\n",
       "      <td>0.0</td>\n",
       "      <td>0.0</td>\n",
       "      <td>0.0</td>\n",
       "      <td>0.0</td>\n",
       "      <td>0.0</td>\n",
       "      <td>0.0</td>\n",
       "      <td>0.0</td>\n",
       "      <td>0.0</td>\n",
       "      <td>0.0</td>\n",
       "    </tr>\n",
       "    <tr>\n",
       "      <th>4</th>\n",
       "      <td>0.0</td>\n",
       "      <td>0.0</td>\n",
       "      <td>0.0</td>\n",
       "      <td>0.0</td>\n",
       "      <td>0.0</td>\n",
       "      <td>0.0</td>\n",
       "      <td>0.0</td>\n",
       "      <td>0.0</td>\n",
       "      <td>0.0</td>\n",
       "      <td>0.0</td>\n",
       "      <td>...</td>\n",
       "      <td>0.0</td>\n",
       "      <td>0.0</td>\n",
       "      <td>0.0</td>\n",
       "      <td>0.0</td>\n",
       "      <td>0.0</td>\n",
       "      <td>0.0</td>\n",
       "      <td>0.0</td>\n",
       "      <td>0.0</td>\n",
       "      <td>0.0</td>\n",
       "      <td>0.0</td>\n",
       "    </tr>\n",
       "  </tbody>\n",
       "</table>\n",
       "<p>5 rows × 785 columns</p>\n",
       "</div>"
      ],
      "text/plain": [
       "   label  pixel0  pixel1  pixel2  pixel3  pixel4  pixel5  pixel6  pixel7  \\\n",
       "0    1.0     0.0     0.0     0.0     0.0     0.0     0.0     0.0     0.0   \n",
       "1    0.0     0.0     0.0     0.0     0.0     0.0     0.0     0.0     0.0   \n",
       "2    1.0     0.0     0.0     0.0     0.0     0.0     0.0     0.0     0.0   \n",
       "3    4.0     0.0     0.0     0.0     0.0     0.0     0.0     0.0     0.0   \n",
       "4    0.0     0.0     0.0     0.0     0.0     0.0     0.0     0.0     0.0   \n",
       "\n",
       "   pixel8  ...  pixel774  pixel775  pixel776  pixel777  pixel778  pixel779  \\\n",
       "0     0.0  ...       0.0       0.0       0.0       0.0       0.0       0.0   \n",
       "1     0.0  ...       0.0       0.0       0.0       0.0       0.0       0.0   \n",
       "2     0.0  ...       0.0       0.0       0.0       0.0       0.0       0.0   \n",
       "3     0.0  ...       0.0       0.0       0.0       0.0       0.0       0.0   \n",
       "4     0.0  ...       0.0       0.0       0.0       0.0       0.0       0.0   \n",
       "\n",
       "   pixel780  pixel781  pixel782  pixel783  \n",
       "0       0.0       0.0       0.0       0.0  \n",
       "1       0.0       0.0       0.0       0.0  \n",
       "2       0.0       0.0       0.0       0.0  \n",
       "3       0.0       0.0       0.0       0.0  \n",
       "4       0.0       0.0       0.0       0.0  \n",
       "\n",
       "[5 rows x 785 columns]"
      ]
     },
     "execution_count": 153,
     "metadata": {},
     "output_type": "execute_result"
    }
   ],
   "source": [
    "train_df.head()"
   ]
  },
  {
   "cell_type": "code",
   "execution_count": 469,
   "id": "8e55f618-4e7c-404f-b2ad-8ba81c80d643",
   "metadata": {},
   "outputs": [],
   "source": [
    "class mnist_dataset(torch.utils.data.Dataset):\n",
    "    \n",
    "    def __init__(self, data, transform=None, linear=True, test=False):\n",
    "        self.data = data\n",
    "        self.transform = transform\n",
    "        self.linear = linear\n",
    "        self.test = test\n",
    "        \n",
    "    def __len__(self):\n",
    "        return self.data.shape[0]\n",
    "    \n",
    "    def __getitem__(self, idx):\n",
    "        \n",
    "        if not self.test:\n",
    "            img = self.data.iloc[idx].iloc[1:].div(255).to_numpy()\n",
    "            lbl = train_df.iloc[idx].label\n",
    "        else:\n",
    "            img = self.data.iloc[idx].div(255).to_numpy()\n",
    "            lbl = np.empty(0)\n",
    "        \n",
    "        if not self.linear: img = img.reshape(1, 28, 28)\n",
    "            \n",
    "        if self.transform: img = self.transform(img.reshape(28, 28, 1))\n",
    "\n",
    "        return img, lbl"
   ]
  },
  {
   "cell_type": "code",
   "execution_count": 239,
   "id": "b0598e9b-73c1-4c0f-8bed-a8bf97a39b30",
   "metadata": {},
   "outputs": [
    {
     "name": "stdout",
     "output_type": "stream",
     "text": [
      "x torch.Size([2, 4]) (4, 1) True\n",
      "y torch.Size([8]) (1,) True\n",
      "w torch.Size([2, 4, 8]) (32, 8, 1) True\n",
      "z torch.Size([2, 2, 8]) (32, 16, 1) False\n",
      "z2 torch.Size([32]) (1,) True\n"
     ]
    }
   ],
   "source": [
    "#https://discuss.pytorch.org/t/whats-the-difference-between-torch-reshape-vs-torch-view/159172\n",
    "#reshape will return a view if possible and will trigger a copy otherwise as explained in the docs 108. If in doubt, you can use reshape if you do not explicitly expect a view of the tensor.\n",
    "#A view points to the same data stored in memory using a changed meta-data such as its shape and stride.\n",
    "x = torch.randn(2, 4); print('x', x.size(), x.stride(), x.is_contiguous())\n",
    "y = x.view(-1); print('y', y.size(), y.stride(), y.is_contiguous())\n",
    "\n",
    "w = torch.randn(2, 4, 8); print('w', w.size(), w.stride(), w.is_contiguous())\n",
    "z = w[:, ::2]; print('z', z.size(), z.stride(), z.is_contiguous())\n",
    "#z1 = z.view(-1) RuntimeError: view size is not compatible with input tensor's size...\n",
    "z2 = z.reshape(-1); print('z2', z2.size(), z2.stride(), z2.is_contiguous())"
   ]
  },
  {
   "cell_type": "code",
   "execution_count": 328,
   "id": "f8e2848b-3b8f-44c5-9c02-98cf966ba125",
   "metadata": {
    "scrolled": true
   },
   "outputs": [
    {
     "data": {
      "text/plain": [
       "tensor([[[0.0000, 0.0000, 0.0000, 0.0000, 0.0000, 0.0000, 0.0000, 0.0000,\n",
       "          0.0000, 0.0000, 0.0000, 0.0000, 0.0000, 0.0000, 0.0000, 0.0000,\n",
       "          0.0000, 0.0000, 0.0000, 0.0000, 0.0000, 0.0000, 0.0000, 0.0000,\n",
       "          0.0000, 0.0000, 0.0000, 0.0000],\n",
       "         [0.0000, 0.0000, 0.0000, 0.0000, 0.0000, 0.0000, 0.0000, 0.0000,\n",
       "          0.0000, 0.0000, 0.0000, 0.0000, 0.0000, 0.0000, 0.0000, 0.0000,\n",
       "          0.0000, 0.0000, 0.0000, 0.0000, 0.0000, 0.0000, 0.0000, 0.0000,\n",
       "          0.0000, 0.0000, 0.0000, 0.0000],\n",
       "         [0.0000, 0.0000, 0.0000, 0.0000, 0.0000, 0.0000, 0.0000, 0.0000,\n",
       "          0.0000, 0.0000, 0.0000, 0.0000, 0.0000, 0.0000, 0.0000, 0.0000,\n",
       "          0.0000, 0.0000, 0.0000, 0.0000, 0.0000, 0.0000, 0.0000, 0.0000,\n",
       "          0.0000, 0.0000, 0.0000, 0.0000],\n",
       "         [0.0000, 0.0000, 0.0000, 0.0000, 0.0000, 0.0000, 0.0000, 0.0000,\n",
       "          0.0000, 0.0000, 0.0000, 0.0000, 0.0000, 0.0000, 0.0000, 0.0000,\n",
       "          0.0000, 0.0000, 0.0000, 0.0000, 0.0000, 0.0000, 0.0000, 0.0000,\n",
       "          0.0000, 0.0000, 0.0000, 0.0000],\n",
       "         [0.0000, 0.0000, 0.0000, 0.0000, 0.0000, 0.0000, 0.0000, 0.0000,\n",
       "          0.0000, 0.0000, 0.0000, 0.0000, 0.0000, 0.0000, 0.0000, 0.0000,\n",
       "          0.0000, 0.0000, 0.0000, 0.0000, 0.7373, 1.0000, 0.3686, 0.0000,\n",
       "          0.0000, 0.0000, 0.0000, 0.0000],\n",
       "         [0.0000, 0.0000, 0.0000, 0.0000, 0.0000, 0.0000, 0.0000, 0.0000,\n",
       "          0.0000, 0.0000, 0.0000, 0.0000, 0.0000, 0.0000, 0.0000, 0.0000,\n",
       "          0.0000, 0.0000, 0.0000, 0.7490, 0.9804, 0.9922, 0.3647, 0.0000,\n",
       "          0.0000, 0.0000, 0.0000, 0.0000],\n",
       "         [0.0000, 0.0000, 0.0000, 0.0000, 0.0000, 0.0000, 0.0000, 0.0000,\n",
       "          0.0000, 0.0000, 0.0000, 0.0000, 0.0000, 0.0000, 0.0000, 0.0000,\n",
       "          0.0000, 0.0000, 0.4824, 0.9725, 0.9922, 0.6549, 0.0392, 0.0000,\n",
       "          0.0000, 0.0000, 0.0000, 0.0000],\n",
       "         [0.0000, 0.0000, 0.0000, 0.0000, 0.0000, 0.0000, 0.0000, 0.0000,\n",
       "          0.0000, 0.0000, 0.0000, 0.0000, 0.0000, 0.0000, 0.0000, 0.0000,\n",
       "          0.0000, 0.3137, 0.9686, 0.9922, 0.8157, 0.0510, 0.0000, 0.0000,\n",
       "          0.0000, 0.0000, 0.0000, 0.0000],\n",
       "         [0.0000, 0.0000, 0.0000, 0.0000, 0.0000, 0.0000, 0.0000, 0.0000,\n",
       "          0.0000, 0.0000, 0.0000, 0.0000, 0.0000, 0.0000, 0.0000, 0.0000,\n",
       "          0.1137, 0.8118, 0.9922, 0.9216, 0.3020, 0.0000, 0.0000, 0.0000,\n",
       "          0.0000, 0.0000, 0.0000, 0.0000],\n",
       "         [0.0000, 0.0000, 0.0000, 0.0000, 0.0000, 0.0000, 0.0000, 0.0000,\n",
       "          0.0000, 0.0000, 0.0000, 0.0000, 0.0000, 0.0000, 0.0000, 0.2118,\n",
       "          0.8196, 0.9922, 0.9922, 0.3451, 0.0000, 0.0000, 0.0000, 0.0000,\n",
       "          0.0000, 0.0000, 0.0000, 0.0000],\n",
       "         [0.0000, 0.0000, 0.0000, 0.0000, 0.0000, 0.0000, 0.0000, 0.0000,\n",
       "          0.0000, 0.0000, 0.0000, 0.0000, 0.0000, 0.0000, 0.3647, 0.9961,\n",
       "          0.9922, 0.9333, 0.6667, 0.0667, 0.0000, 0.0000, 0.0000, 0.0000,\n",
       "          0.0000, 0.0000, 0.0000, 0.0000],\n",
       "         [0.0000, 0.0000, 0.0000, 0.0000, 0.0000, 0.0000, 0.0000, 0.0000,\n",
       "          0.0000, 0.0000, 0.0000, 0.0000, 0.0000, 0.0902, 0.8235, 0.9961,\n",
       "          0.9922, 0.6235, 0.0000, 0.0000, 0.0000, 0.0000, 0.0000, 0.0000,\n",
       "          0.0000, 0.0000, 0.0000, 0.0000],\n",
       "         [0.0000, 0.0000, 0.0000, 0.0000, 0.0000, 0.0000, 0.0000, 0.0000,\n",
       "          0.0000, 0.0000, 0.0000, 0.0000, 0.0627, 0.8196, 0.9922, 0.9961,\n",
       "          0.9412, 0.3176, 0.0000, 0.0000, 0.0000, 0.0000, 0.0000, 0.0000,\n",
       "          0.0000, 0.0000, 0.0000, 0.0000],\n",
       "         [0.0000, 0.0000, 0.0000, 0.0000, 0.0000, 0.0000, 0.0000, 0.0000,\n",
       "          0.0000, 0.0000, 0.0000, 0.0000, 0.1059, 0.9922, 0.9922, 0.9961,\n",
       "          0.0510, 0.0000, 0.0000, 0.0000, 0.0000, 0.0000, 0.0000, 0.0000,\n",
       "          0.0000, 0.0000, 0.0000, 0.0000],\n",
       "         [0.0000, 0.0000, 0.0000, 0.0000, 0.0000, 0.0000, 0.0000, 0.0000,\n",
       "          0.0000, 0.0000, 0.0000, 0.0784, 0.8078, 0.9961, 0.9961, 0.7765,\n",
       "          0.0275, 0.0000, 0.0000, 0.0000, 0.0000, 0.0000, 0.0000, 0.0000,\n",
       "          0.0000, 0.0000, 0.0000, 0.0000],\n",
       "         [0.0000, 0.0000, 0.0000, 0.0000, 0.0000, 0.0000, 0.0000, 0.0000,\n",
       "          0.0000, 0.0000, 0.0000, 0.6588, 0.9922, 0.9922, 0.7686, 0.0275,\n",
       "          0.0000, 0.0000, 0.0000, 0.0000, 0.0000, 0.0000, 0.0000, 0.0000,\n",
       "          0.0000, 0.0000, 0.0000, 0.0000],\n",
       "         [0.0000, 0.0000, 0.0000, 0.0000, 0.0000, 0.0000, 0.0000, 0.0000,\n",
       "          0.0000, 0.0000, 0.0784, 0.7961, 0.9922, 0.9725, 0.2980, 0.0000,\n",
       "          0.0000, 0.0000, 0.0000, 0.0000, 0.0000, 0.0000, 0.0000, 0.0000,\n",
       "          0.0000, 0.0000, 0.0000, 0.0000],\n",
       "         [0.0000, 0.0000, 0.0000, 0.0000, 0.0000, 0.0000, 0.0000, 0.0000,\n",
       "          0.0000, 0.0863, 0.7373, 0.9922, 0.9608, 0.3647, 0.0000, 0.0000,\n",
       "          0.0000, 0.0000, 0.0000, 0.0000, 0.0000, 0.0000, 0.0000, 0.0000,\n",
       "          0.0000, 0.0000, 0.0000, 0.0000],\n",
       "         [0.0000, 0.0000, 0.0000, 0.0000, 0.0000, 0.0000, 0.0000, 0.0000,\n",
       "          0.0000, 0.4039, 0.9922, 0.9922, 0.7490, 0.0000, 0.0000, 0.0000,\n",
       "          0.0000, 0.0000, 0.0000, 0.0000, 0.0000, 0.0000, 0.0000, 0.0000,\n",
       "          0.0000, 0.0000, 0.0000, 0.0000],\n",
       "         [0.0000, 0.0000, 0.0000, 0.0000, 0.0000, 0.0000, 0.0000, 0.0000,\n",
       "          0.3490, 0.9412, 0.9922, 0.7647, 0.0980, 0.0000, 0.0000, 0.0000,\n",
       "          0.0000, 0.0000, 0.0000, 0.0000, 0.0000, 0.0000, 0.0000, 0.0000,\n",
       "          0.0000, 0.0000, 0.0000, 0.0000],\n",
       "         [0.0000, 0.0000, 0.0000, 0.0000, 0.0000, 0.0000, 0.0000, 0.0588,\n",
       "          0.8627, 0.9922, 0.9922, 0.3137, 0.0000, 0.0000, 0.0000, 0.0000,\n",
       "          0.0000, 0.0000, 0.0000, 0.0000, 0.0000, 0.0000, 0.0000, 0.0000,\n",
       "          0.0000, 0.0000, 0.0000, 0.0000],\n",
       "         [0.0000, 0.0000, 0.0000, 0.0000, 0.0000, 0.0000, 0.0000, 0.3686,\n",
       "          0.9922, 0.9922, 0.9922, 0.3686, 0.0000, 0.0000, 0.0000, 0.0000,\n",
       "          0.0000, 0.0000, 0.0000, 0.0000, 0.0000, 0.0000, 0.0000, 0.0000,\n",
       "          0.0000, 0.0000, 0.0000, 0.0000],\n",
       "         [0.0000, 0.0000, 0.0000, 0.0000, 0.0000, 0.0000, 0.0000, 0.3490,\n",
       "          0.9843, 0.9922, 0.9804, 0.5137, 0.0000, 0.0000, 0.0000, 0.0000,\n",
       "          0.0000, 0.0000, 0.0000, 0.0000, 0.0000, 0.0000, 0.0000, 0.0000,\n",
       "          0.0000, 0.0000, 0.0000, 0.0000],\n",
       "         [0.0000, 0.0000, 0.0000, 0.0000, 0.0000, 0.0000, 0.0000, 0.0000,\n",
       "          0.8392, 0.8549, 0.3725, 0.0000, 0.0000, 0.0000, 0.0000, 0.0000,\n",
       "          0.0000, 0.0000, 0.0000, 0.0000, 0.0000, 0.0000, 0.0000, 0.0000,\n",
       "          0.0000, 0.0000, 0.0000, 0.0000],\n",
       "         [0.0000, 0.0000, 0.0000, 0.0000, 0.0000, 0.0000, 0.0000, 0.0000,\n",
       "          0.0000, 0.0000, 0.0000, 0.0000, 0.0000, 0.0000, 0.0000, 0.0000,\n",
       "          0.0000, 0.0000, 0.0000, 0.0000, 0.0000, 0.0000, 0.0000, 0.0000,\n",
       "          0.0000, 0.0000, 0.0000, 0.0000],\n",
       "         [0.0000, 0.0000, 0.0000, 0.0000, 0.0000, 0.0000, 0.0000, 0.0000,\n",
       "          0.0000, 0.0000, 0.0000, 0.0000, 0.0000, 0.0000, 0.0000, 0.0000,\n",
       "          0.0000, 0.0000, 0.0000, 0.0000, 0.0000, 0.0000, 0.0000, 0.0000,\n",
       "          0.0000, 0.0000, 0.0000, 0.0000],\n",
       "         [0.0000, 0.0000, 0.0000, 0.0000, 0.0000, 0.0000, 0.0000, 0.0000,\n",
       "          0.0000, 0.0000, 0.0000, 0.0000, 0.0000, 0.0000, 0.0000, 0.0000,\n",
       "          0.0000, 0.0000, 0.0000, 0.0000, 0.0000, 0.0000, 0.0000, 0.0000,\n",
       "          0.0000, 0.0000, 0.0000, 0.0000],\n",
       "         [0.0000, 0.0000, 0.0000, 0.0000, 0.0000, 0.0000, 0.0000, 0.0000,\n",
       "          0.0000, 0.0000, 0.0000, 0.0000, 0.0000, 0.0000, 0.0000, 0.0000,\n",
       "          0.0000, 0.0000, 0.0000, 0.0000, 0.0000, 0.0000, 0.0000, 0.0000,\n",
       "          0.0000, 0.0000, 0.0000, 0.0000]]])"
      ]
     },
     "execution_count": 328,
     "metadata": {},
     "output_type": "execute_result"
    }
   ],
   "source": [
    "torch.from_numpy(train_df.iloc[0].iloc[1:].div(255).values).view(1, 28, 28)"
   ]
  },
  {
   "cell_type": "code",
   "execution_count": 329,
   "id": "73263976-5016-4a40-b9f6-e8a0f6118abe",
   "metadata": {},
   "outputs": [],
   "source": [
    "mnist_ds = mnist_dataset(train_df); len(train_data)"
   ]
  },
  {
   "cell_type": "code",
   "execution_count": 168,
   "id": "e2bd6bd6-8041-4983-86fa-fc4a13b97869",
   "metadata": {},
   "outputs": [],
   "source": [
    "batch_size = 64\n",
    "validation_split = .2\n",
    "shuffle_dataset = True\n",
    "random_seed = 42\n",
    "\n",
    "generator = torch.Generator().manual_seed(random_seed)\n",
    "\n",
    "validation_size = int(len(mnist_ds) * validation_split)\n",
    "train_size = len(mnist_ds) - validation_size\n",
    "\n",
    "train_dataset, validation_dataset = torch.utils.data.random_split(\n",
    "    mnist_ds,\n",
    "    [train_size, validation_size],\n",
    "    generator=generator\n",
    ")\n",
    "\n",
    "train_dataloader = torch.utils.data.DataLoader(\n",
    "    train_dataset, \n",
    "    batch_size=batch_size, \n",
    "    shuffle=shuffle_dataset\n",
    ")\n",
    "validation_dataloader = torch.utils.data.DataLoader(\n",
    "    validation_dataset,\n",
    "    batch_size=batch_size,\n",
    "    shuffle=shuffle_dataset\n",
    ")"
   ]
  },
  {
   "cell_type": "code",
   "execution_count": 169,
   "id": "b2f92529-a839-4441-809c-270af0fef181",
   "metadata": {},
   "outputs": [
    {
     "name": "stdout",
     "output_type": "stream",
     "text": [
      "33600 8400\n"
     ]
    }
   ],
   "source": [
    "print(len(train_dataset), len(validation_dataset))"
   ]
  },
  {
   "cell_type": "code",
   "execution_count": 170,
   "id": "76c7dc3a-7f79-4e26-b967-690a260a19ff",
   "metadata": {
    "scrolled": true
   },
   "outputs": [
    {
     "name": "stdout",
     "output_type": "stream",
     "text": [
      "Feature batch shape: torch.Size([64, 784])\n",
      "Labels batch shape: torch.Size([64])\n",
      "Data in the batch: tensor([[0., 0., 0.,  ..., 0., 0., 0.],\n",
      "        [0., 0., 0.,  ..., 0., 0., 0.],\n",
      "        [0., 0., 0.,  ..., 0., 0., 0.],\n",
      "        ...,\n",
      "        [0., 0., 0.,  ..., 0., 0., 0.],\n",
      "        [0., 0., 0.,  ..., 0., 0., 0.],\n",
      "        [0., 0., 0.,  ..., 0., 0., 0.]])\n"
     ]
    }
   ],
   "source": [
    "train_features, train_labels = next(iter(train_dataloader))\n",
    "val_features, val_labels = next(iter(validation_dataloader))\n",
    "\n",
    "print(f'Feature batch shape: {train_features.size()}')\n",
    "print(f'Labels batch shape: {train_labels.size()}')\n",
    "print(f'Data in the batch: {train_features}')"
   ]
  },
  {
   "cell_type": "code",
   "execution_count": 330,
   "id": "b87fe90d-2e20-45b2-b393-1a5a54b57da6",
   "metadata": {},
   "outputs": [
    {
     "data": {
      "text/plain": [
       "tensor(7.)"
      ]
     },
     "execution_count": 330,
     "metadata": {},
     "output_type": "execute_result"
    },
    {
     "data": {
      "image/png": "[encoded data removed]",
      "text/plain": [
       "<Figure size 640x480 with 1 Axes>"
      ]
     },
     "metadata": {},
     "output_type": "display_data"
    }
   ],
   "source": [
    "plt.imshow(train_features[idx].reshape(28, 28, 1), cmap='gray'); train_labels[idx]"
   ]
  },
  {
   "cell_type": "code",
   "execution_count": 331,
   "id": "c2ff06b6-6859-4585-926d-ba8be1d4d8cd",
   "metadata": {},
   "outputs": [
    {
     "data": {
      "text/plain": [
       "tensor(8.)"
      ]
     },
     "execution_count": 331,
     "metadata": {},
     "output_type": "execute_result"
    },
    {
     "data": {
      "image/png": "[encoded data removed]",
      "text/plain": [
       "<Figure size 640x480 with 1 Axes>"
      ]
     },
     "metadata": {},
     "output_type": "display_data"
    }
   ],
   "source": [
    "plt.imshow(val_features[idx].reshape(28, 28, 1), cmap='gray'); val_labels[idx]"
   ]
  },
  {
   "cell_type": "code",
   "execution_count": 187,
   "id": "62ac739b-77c3-4452-aada-d0283bcdc565",
   "metadata": {},
   "outputs": [],
   "source": [
    "def train_model(model, train_loader, val_loader, loss, optimizer, num_epochs):\n",
    "    \n",
    "    #import ipdb; ipdb.set_trace()\n",
    "    \n",
    "    for epoch in range(num_epochs):\n",
    "        \n",
    "        model.train()\n",
    "\n",
    "        loss_accum = 0\n",
    "        correct_samples = 0\n",
    "        total_samples = 0\n",
    "\n",
    "        for i_step, (x, y) in enumerate(train_loader):\n",
    "            \n",
    "            x = x.to(device)\n",
    "            y = y.long().to(device)\n",
    "            \n",
    "            prediction = model(x)\n",
    "            loss_value = loss(prediction, y)\n",
    "            \n",
    "            loss_value.backward()\n",
    "            optimizer.step()\n",
    "            optimizer.zero_grad()\n",
    "            \n",
    "            _, indices = torch.max(prediction, 1)\n",
    "            correct_samples += torch.sum(indices == y)\n",
    "            total_samples += y.shape[0]\n",
    "\n",
    "            loss_accum += loss_value\n",
    "\n",
    "        ave_loss = loss_accum / i_step\n",
    "        train_acc = float(correct_samples) / total_samples\n",
    "        val_acc = compute_accuracy(model, val_loader)\n",
    "\n",
    "        print(\"Epoch: %i/%i, Average Loss: %f, Train acc: %f, Val acc: %f\" %\n",
    "            (epoch + 1, num_epochs, ave_loss, train_acc, val_acc)\n",
    "        )"
   ]
  },
  {
   "cell_type": "code",
   "execution_count": 188,
   "id": "8ff5ea26-b9f4-47ad-9a41-9eed8771c195",
   "metadata": {},
   "outputs": [],
   "source": [
    "def compute_accuracy(model, loader):\n",
    "\n",
    "    model.eval()\n",
    "    \n",
    "    correct_samples, total_samples = 0, 0\n",
    "\n",
    "    with torch.no_grad():\n",
    "\n",
    "        for i, (inputs, labels) in enumerate(loader):\n",
    "            x = inputs.to(device)\n",
    "            y = labels.to(device)\n",
    "\n",
    "            output = model(x)\n",
    "            prediction = torch.argmax(output, axis=1)\n",
    "        \n",
    "            correct_samples += torch.sum(prediction == y)\n",
    "            total_samples += y.shape[0]\n",
    "\n",
    "    return correct_samples / total_samples"
   ]
  },
  {
   "cell_type": "code",
   "execution_count": null,
   "id": "b8910268-a956-4537-8873-6ccebb3105bb",
   "metadata": {},
   "outputs": [],
   "source": [
    "#linear"
   ]
  },
  {
   "cell_type": "code",
   "execution_count": 207,
   "id": "3a52b4cc-549a-4765-a193-1d59caf37319",
   "metadata": {},
   "outputs": [],
   "source": [
    "model_0 = torch.nn.Linear(28 * 28, 10)\n",
    "loss = torch.nn.CrossEntropyLoss()\n",
    "optimizer = torch.optim.SGD(model_0.parameters(), lr=.5)"
   ]
  },
  {
   "cell_type": "code",
   "execution_count": 208,
   "id": "9baa5fa1-b90e-4e66-96aa-8f6cca1d505a",
   "metadata": {},
   "outputs": [
    {
     "name": "stdout",
     "output_type": "stream",
     "text": [
      "Epoch: 1/10, Average Loss: 0.408749, Train acc: 0.882381, Val acc: 0.906548\n",
      "Epoch: 2/10, Average Loss: 0.308169, Train acc: 0.911190, Val acc: 0.910119\n",
      "Epoch: 3/10, Average Loss: 0.290119, Train acc: 0.916964, Val acc: 0.911310\n",
      "Epoch: 4/10, Average Loss: 0.280228, Train acc: 0.920298, Val acc: 0.909405\n",
      "Epoch: 5/10, Average Loss: 0.272925, Train acc: 0.922589, Val acc: 0.912738\n",
      "Epoch: 6/10, Average Loss: 0.267821, Train acc: 0.923661, Val acc: 0.913333\n",
      "Epoch: 7/10, Average Loss: 0.263928, Train acc: 0.924345, Val acc: 0.915238\n",
      "Epoch: 8/10, Average Loss: 0.259738, Train acc: 0.925685, Val acc: 0.912976\n",
      "Epoch: 9/10, Average Loss: 0.256323, Train acc: 0.925923, Val acc: 0.909286\n",
      "Epoch: 10/10, Average Loss: 0.253960, Train acc: 0.927381, Val acc: 0.914048\n"
     ]
    }
   ],
   "source": [
    "train_model(model_0, train_dataloader, validation_dataloader, loss, optimizer, 10)"
   ]
  },
  {
   "cell_type": "code",
   "execution_count": 277,
   "id": "37505711-f560-4e5d-bffb-5bd5dca3f704",
   "metadata": {},
   "outputs": [],
   "source": [
    "#convs"
   ]
  },
  {
   "cell_type": "code",
   "execution_count": 415,
   "id": "bbdca2ef-7366-458e-9de9-5b9ce51f68fe",
   "metadata": {},
   "outputs": [],
   "source": [
    "mnist_ds_conv = mnist_dataset(\n",
    "    train_df, \n",
    "    linear=False, \n",
    "    transform=torchvision.transforms.Compose([\n",
    "        torchvision.transforms.ToTensor(),\n",
    "        torchvision.transforms.RandomRotation(\n",
    "            10, interpolation=torchvision.transforms.InterpolationMode.BILINEAR\n",
    "        ),\n",
    "    ])\n",
    ")"
   ]
  },
  {
   "cell_type": "code",
   "execution_count": 416,
   "id": "ad595cb3-a16d-40b4-b983-ef3af3c02c55",
   "metadata": {},
   "outputs": [],
   "source": [
    "batch_size = 64\n",
    "validation_split = .2\n",
    "shuffle_dataset = True\n",
    "random_seed = 42\n",
    "\n",
    "generator = torch.Generator().manual_seed(random_seed)\n",
    "\n",
    "validation_size = int(len(mnist_ds_conv) * validation_split)\n",
    "train_size = len(mnist_ds_conv) - validation_size\n",
    "\n",
    "train_dataset_conv, validation_dataset_conv = torch.utils.data.random_split(\n",
    "    mnist_ds_conv,\n",
    "    [train_size, validation_size],\n",
    "    generator=generator\n",
    ")\n",
    "\n",
    "train_dataloader_conv = torch.utils.data.DataLoader(\n",
    "    train_dataset_conv, \n",
    "    batch_size=batch_size, \n",
    "    shuffle=shuffle_dataset\n",
    ")\n",
    "validation_dataloader_conv = torch.utils.data.DataLoader(\n",
    "    validation_dataset_conv,\n",
    "    batch_size=batch_size,\n",
    "    shuffle=shuffle_dataset\n",
    ")"
   ]
  },
  {
   "cell_type": "code",
   "execution_count": 417,
   "id": "9da880f5-9867-4ffe-8d89-3dbe910bb2dd",
   "metadata": {},
   "outputs": [
    {
     "data": {
      "text/plain": [
       "torch.Size([64, 1, 28, 28])"
      ]
     },
     "execution_count": 417,
     "metadata": {},
     "output_type": "execute_result"
    }
   ],
   "source": [
    "next(iter(train_dataloader_conv))[0].size()"
   ]
  },
  {
   "cell_type": "code",
   "execution_count": 428,
   "id": "670cddb2-d82b-4cf1-bce4-cdcb975cdc1a",
   "metadata": {},
   "outputs": [
    {
     "data": {
      "text/plain": [
       "<matplotlib.image.AxesImage at 0x7f1668713510>"
      ]
     },
     "execution_count": 428,
     "metadata": {},
     "output_type": "execute_result"
    },
    {
     "data": {
      "image/png": "[encoded data removed]",
      "text/plain": [
       "<Figure size 640x480 with 1 Axes>"
      ]
     },
     "metadata": {},
     "output_type": "display_data"
    }
   ],
   "source": [
    "plt.imshow(next(iter(train_dataloader_conv))[0][0].reshape(28, 28, 1), cmap='gray')"
   ]
  },
  {
   "cell_type": "code",
   "execution_count": 429,
   "id": "bc0e24f4-b833-4915-884f-318e06f0899c",
   "metadata": {},
   "outputs": [],
   "source": [
    "#lenet\n",
    "\n",
    "lr = 1e-1\n",
    "wd = 1e-5\n",
    "\n",
    "model_lenet = torch.nn.Sequential(\n",
    "    torch.nn.Conv2d(in_channels=1, out_channels=6, kernel_size=5, padding=0),\n",
    "    torch.nn.Tanh(),\n",
    "    torch.nn.AvgPool2d(2),\n",
    "    torch.nn.Conv2d(in_channels=6, out_channels=16, kernel_size=5, padding=0),\n",
    "    torch.nn.Tanh(),\n",
    "    torch.nn.AvgPool2d(2),\n",
    "\n",
    "    torch.nn.Flatten(),\n",
    "\n",
    "    torch.nn.Linear(256, 140),\n",
    "    torch.nn.Tanh(),\n",
    "    torch.nn.Linear(140, 84),\n",
    "    torch.nn.Tanh(),\n",
    "    torch.nn.Linear(84, 10)\n",
    ")\n",
    "\n",
    "loss = torch.nn.CrossEntropyLoss()\n",
    "optimizer = torch.optim.SGD(model_lenet.parameters(), lr=lr, weight_decay=wd)"
   ]
  },
  {
   "cell_type": "code",
   "execution_count": 493,
   "id": "96b69947-c09c-48a1-9254-2b5427564355",
   "metadata": {},
   "outputs": [
    {
     "name": "stdout",
     "output_type": "stream",
     "text": [
      "Epoch: 1/10, Average Loss: 0.002654, Train acc: 0.999494, Val acc: 0.987024\n",
      "Epoch: 2/10, Average Loss: 0.003087, Train acc: 0.999435, Val acc: 0.985714\n",
      "Epoch: 3/10, Average Loss: 0.002468, Train acc: 0.999702, Val acc: 0.986786\n",
      "Epoch: 4/10, Average Loss: 0.002469, Train acc: 0.999643, Val acc: 0.986310\n",
      "Epoch: 5/10, Average Loss: 0.002419, Train acc: 0.999583, Val acc: 0.986786\n",
      "Epoch: 6/10, Average Loss: 0.002902, Train acc: 0.999345, Val acc: 0.987262\n",
      "Epoch: 7/10, Average Loss: 0.002213, Train acc: 0.999673, Val acc: 0.987024\n",
      "Epoch: 8/10, Average Loss: 0.002221, Train acc: 0.999732, Val acc: 0.987024\n",
      "Epoch: 9/10, Average Loss: 0.002886, Train acc: 0.999375, Val acc: 0.986429\n",
      "Epoch: 10/10, Average Loss: 0.002537, Train acc: 0.999464, Val acc: 0.986786\n"
     ]
    }
   ],
   "source": [
    "train_model(model_lenet, train_dataloader_conv, validation_dataloader_conv, loss, optimizer, 10)"
   ]
  },
  {
   "cell_type": "code",
   "execution_count": 481,
   "id": "8b2d5cb1-fa17-4085-b829-4a3f78366fcb",
   "metadata": {},
   "outputs": [],
   "source": [
    "test_dataset = mnist_dataset(test_df, linear=False, test=True)\n",
    "test_dataload = torch.utils.data.DataLoader(\n",
    "    test_dataset, batch_size=len(test_dataset)\n",
    ")"
   ]
  },
  {
   "cell_type": "code",
   "execution_count": 494,
   "id": "1d1b07b8-a436-46a5-8e24-fd3d4d2151de",
   "metadata": {},
   "outputs": [],
   "source": [
    "test_res = model_lenet(test_img).argmax(dim=1)"
   ]
  },
  {
   "cell_type": "code",
   "execution_count": 485,
   "id": "5da8e851-d28b-4a62-a7c1-b0cabbda5ce9",
   "metadata": {},
   "outputs": [
    {
     "data": {
      "text/plain": [
       "28000"
      ]
     },
     "execution_count": 485,
     "metadata": {},
     "output_type": "execute_result"
    }
   ],
   "source": [
    "len(test_res)"
   ]
  },
  {
   "cell_type": "code",
   "execution_count": 495,
   "id": "84dd9905-0879-45fe-9701-c15391d92292",
   "metadata": {},
   "outputs": [],
   "source": [
    "pd.DataFrame(\n",
    "    {\n",
    "        'ImageId':range(1, len(test_res)+1),\n",
    "        'Label': test_res\n",
    "    }\n",
    ").to_csv('submission_131223_Lenet_0.csv', sep=',', index=False)"
   ]
  },
  {
   "cell_type": "code",
   "execution_count": 496,
   "id": "e95aad3c-889d-4b7f-8b65-07535b62b894",
   "metadata": {},
   "outputs": [],
   "source": [
    "torch.save(model_lenet, '1_lenet_0986786.pt')"
   ]
  },
  {
   "cell_type": "code",
   "execution_count": null,
   "id": "58c3c917-d540-43cb-a49b-4570ebc359db",
   "metadata": {},
   "outputs": [],
   "source": []
  },
  {
   "cell_type": "code",
   "execution_count": 499,
   "id": "65e20c95-c9a7-438d-87cb-cbb20e928f97",
   "metadata": {},
   "outputs": [],
   "source": [
    "#capsule_network\n",
    "#https://github.com/gram-ai/capsule-networks/\n",
    "\n",
    "BATCH_SIZE = 100\n",
    "NUM_CLASSES = 10\n",
    "NUM_EPOCHS = 500\n",
    "NUM_ROUTING_ITERATIONS = 3"
   ]
  },
  {
   "cell_type": "code",
   "execution_count": 533,
   "id": "1b529fd5-59a9-4a15-a011-49c0b350f013",
   "metadata": {},
   "outputs": [],
   "source": [
    "def softmax(input, dim=1):\n",
    "    transposed_input = input.transpose(dim, len(input.size()) - 1)\n",
    "    softmaxed_output = torch.functional.softmax(transposed_input.contiguous().view(-1, transposed_input.size(-1)), dim=-1)\n",
    "    return softmaxed_output.view(*transposed_input.size()).transpose(dim, len(input.size()) - 1)\n",
    "    \n",
    "class CapsuleLayer(torch.nn.Module):\n",
    "    def __init__(self, num_capsules, num_route_nodes, in_channels, out_channels,\n",
    "                 kernel_size=None, stride=None, num_iterations=NUM_ROUTING_ITERATIONS):\n",
    "        super(CapsuleLayer, self).__init__()\n",
    "\n",
    "        self.num_route_nodes = num_route_nodes\n",
    "        self.num_iterations = num_iterations\n",
    "        self.num_capsules = num_capsules\n",
    "\n",
    "        if num_route_nodes != -1:\n",
    "            self.route_weights = torch.nn.Parameter(\n",
    "                torch.randn(num_capsules, num_route_nodes, in_channels, out_channels)\n",
    "            )\n",
    "        else:\n",
    "            self.capsules = torch.nn.ModuleList(\n",
    "                [torch.nn.Conv2d(in_channels, out_channels, kernel_size=kernel_size,stride=stride, padding=0) for _ in range(num_capsules)])\n",
    "    \n",
    "    def squash(self, tensor, dim=-1):\n",
    "        squared_norm = (tensor ** 2).sum(dim=dim, keepdim=True)\n",
    "        scale = squared_norm / (1 + squared_norm)\n",
    "        return scale * tensor / torch.sqrt(squared_norm)\n",
    "\n",
    "    def forward(self, x):\n",
    "        if self.num_route_nodes != -1:\n",
    "            priors = x[None, :, :, None, :] @ self.route_weights[:, None, :, :, :]\n",
    "\n",
    "            logits = torch.autograd.Variable(torch.zeros(*priors.size()))    #.cuda()\n",
    "            for i in range(self.num_iterations):\n",
    "                probs = softmax(logits, dim=2)\n",
    "                outputs = self.squash((probs * priors).sum(dim=2, keepdim=True))\n",
    "\n",
    "                if i != self.num_iterations - 1:\n",
    "                    delta_logits = (priors * outputs).sum(dim=-1, keepdim=True)\n",
    "                    logits = logits + delta_logits\n",
    "        else:\n",
    "            ouputs = [capsule(x).view(x.size(0), -1, 1) for capsule in self.capsules]\n",
    "            outputs = torch.cat(outputs, dim=-1)\n",
    "            outputs = self.squash(outputs)\n",
    "        return outputs\n",
    "\n",
    "class CapsuleNet(torch.nn.Module):\n",
    "    def __init__(self):\n",
    "        super(CapsuleNet, self).__init__()\n",
    "\n",
    "        self.conv1 = torch.nn.Conv2d(in_channels=1, out_channels=256, kernel_size=9, stride=1)\n",
    "        self.primary_capsules = CapsuleLayer(num_capsules=8, num_route_nodes=-1, in_channels=256, out_channels=32, kernel_size=9, stride=2)\n",
    "        self.digit_capsules = CapsuleLayer(num_capsules=NUM_CLASSES, num_route_nodes=32*6*6, in_channels=8, out_channels=16)\n",
    "\n",
    "        self.decoder = torch.nn.Sequential(\n",
    "            torch.nn.Linear(16 * NUM_CLASSES, 512),\n",
    "            torch.nn.ReLU(inplace=True),\n",
    "            torch.nn.Linear(512, 1024),\n",
    "            torch.nn.ReLU(inplace=True),\n",
    "            torch.nn.Linear(1024, 784),\n",
    "            torch.nn.Sigmoid()\n",
    "        )\n",
    "    \n",
    "    def forward(self, x, y=None):\n",
    "        x = self.conv1(x)\n",
    "        x = torch.nn.functional.relu(x, inplace=True)\n",
    "        x = self.primary_capsules(x)\n",
    "        x = self.digit_capsules(x).squeeze().transpose(0, 1)\n",
    "\n",
    "        classes = (x ** 2).sum(dim=-1) ** 0.5\n",
    "        classes = torch.nn.functional.softmax(classes, dim=-1)\n",
    "\n",
    "        if y is None:\n",
    "            # In all batches, get the most active capsule\n",
    "            _, max_length_indices = classes.max(dim=1)\n",
    "            y = torch.autograd.Variable(torch.eye(NUM_CLASSES)).index_select(dim=0, index=max_length_indices.data)\n",
    "            #y = torch.autograd.Variable(torch.eye(NUM_CLASSES)).cuda().index_select(dim=0, index=max_length_indices.data)\n",
    "\n",
    "        reconstructions = self.decoder((x * y[:, :, None]).view(x.size(0), -1))\n",
    "\n",
    "        return classes, reconstructions\n",
    "\n",
    "class CapsuleLoss(torch.nn.Module):\n",
    "    def __init__(self):\n",
    "        super(CapsuleLoss, self).__init__()\n",
    "        self.reconstruction_loss = torch.nn.MSELoss(size_average=False)\n",
    "\n",
    "    def forward(self, images, labels, classes, reconstructions):\n",
    "        left = torch.nn.functional.relu(0.9 - classes, inplace=True) ** 2\n",
    "        right = torch.nn.functional.relu(classes - 0.1, inplace=True) ** 2\n",
    "\n",
    "        margin_loss = labels * left + 0.5 * (1. - labels) * right\n",
    "        margin_loss = margin_loss.sum()\n",
    "\n",
    "        assert torch.numel(images) == torch.numel(reconstructions)\n",
    "        images = images.view(reconstructions.size()[0], -1)\n",
    "        reconstruction_loss = self.reconstruction_loss(reconstructions, images)\n",
    "\n",
    "        return (margin_loss + 0.0005 * reconstruction_loss) / images.size(0)"
   ]
  },
  {
   "cell_type": "code",
   "execution_count": 501,
   "id": "25c7f981-3c3d-49f3-b603-917422c5dfa3",
   "metadata": {},
   "outputs": [],
   "source": [
    "conv1 = torch.nn.Conv2d(in_channels=1, out_channels=256, kernel_size=9, stride=1)"
   ]
  },
  {
   "cell_type": "code",
   "execution_count": 525,
   "id": "8d1cf9db-d22a-4e22-b7c1-a6561bfb6eaf",
   "metadata": {},
   "outputs": [],
   "source": [
    "step_1 = conv1(train_features[idx].view(1, 28, 28))    #.shape: torch.Size([256, 20, 20])\n",
    "step_2 = torch.nn.functional.relu(step_1)\n",
    "step_3 = CapsuleLayer(num_capsules=8, num_route_nodes=-1, in_channels=256, out_channels=32,\n",
    "                      kernel_size=9, stride=2)\n",
    "step_4 = CapsuleLayer(num_capsules=NUM_CLASSES, num_route_nodes=32*6*6, in_channels=8, out_channels=16)"
   ]
  },
  {
   "cell_type": "code",
   "execution_count": 534,
   "id": "d9b46aba-d5da-4510-96bf-427086e1f3ae",
   "metadata": {},
   "outputs": [],
   "source": [
    "model_capsule = CapsuleNet()\n",
    "model_capsule.to(device)\n",
    "\n",
    "optimizer = torch.optim.Adam(model.parameters())"
   ]
  },
  {
   "cell_type": "code",
   "execution_count": null,
   "id": "d4c1b0de-5763-48d8-871e-59870ab0de63",
   "metadata": {},
   "outputs": [],
   "source": []
  }
 ],
 "metadata": {
  "kernelspec": {
   "display_name": "fast.ai",
   "language": "python",
   "name": "fastai"
  },
  "language_info": {
   "codemirror_mode": {
    "name": "ipython",
    "version": 3
   },
   "file_extension": ".py",
   "mimetype": "text/x-python",
   "name": "python",
   "nbconvert_exporter": "python",
   "pygments_lexer": "ipython3",
   "version": "3.11.2"
  }
 },
 "nbformat": 4,
 "nbformat_minor": 5
}
