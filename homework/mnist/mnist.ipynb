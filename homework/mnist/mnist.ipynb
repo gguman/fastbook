{
 "cells": [
  {
   "cell_type": "code",
   "execution_count": 1,
   "id": "62a540d0-f484-4cf1-8de4-0dffbb59f5c3",
   "metadata": {},
   "outputs": [],
   "source": [
    "import kaggle"
   ]
  },
  {
   "cell_type": "code",
   "execution_count": 2,
   "id": "5e6a28cb-d585-4735-b37d-2034ee3007ac",
   "metadata": {},
   "outputs": [
    {
     "name": "stdout",
     "output_type": "stream",
     "text": [
      "digit-recognizer.zip: Skipping, found more recently modified local copy (use --force to force download)\n"
     ]
    }
   ],
   "source": [
    "!/home/gguser01/.venvs/vfastai/bin/kaggle competitions download -c digit-recognizer"
   ]
  },
  {
   "cell_type": "code",
   "execution_count": 30,
   "id": "326b9936-590e-456a-bd93-1bb42c92c524",
   "metadata": {},
   "outputs": [],
   "source": [
    "import zipfile, torch, math, os, PIL\n",
    "\n",
    "import pandas as pd\n",
    "import matplotlib.pyplot as plt\n",
    "import numpy as np"
   ]
  },
  {
   "cell_type": "code",
   "execution_count": 151,
   "id": "fed1da43-0538-49ef-ba32-ac2038165166",
   "metadata": {},
   "outputs": [
    {
     "data": {
      "text/plain": [
       "device(type='cpu')"
      ]
     },
     "execution_count": 151,
     "metadata": {},
     "output_type": "execute_result"
    }
   ],
   "source": [
    "device = torch.device('cuda:0') if torch.cuda.is_available() else torch.device('cpu'); device"
   ]
  },
  {
   "cell_type": "code",
   "execution_count": 4,
   "id": "36ace9e5-5ace-4e2f-aac5-c3bbf0c94067",
   "metadata": {},
   "outputs": [],
   "source": [
    "zf = zipfile.ZipFile('digit-recognizer.zip'); zf.filelist"
   ]
  },
  {
   "cell_type": "code",
   "execution_count": 152,
   "id": "cd5a3ff8-e003-4a43-9731-9a2523ddfec7",
   "metadata": {},
   "outputs": [],
   "source": [
    "train_df = pd.read_csv(zf.open('train.csv'), dtype='float32')\n",
    "test_df = pd.read_csv(zf.open('test.csv'), dtype='float32')"
   ]
  },
  {
   "cell_type": "code",
   "execution_count": 153,
   "id": "6bf0431f-222f-4148-ae91-56a95353be9d",
   "metadata": {},
   "outputs": [
    {
     "data": {
      "text/html": [
       "<div>\n",
       "<style scoped>\n",
       "    .dataframe tbody tr th:only-of-type {\n",
       "        vertical-align: middle;\n",
       "    }\n",
       "\n",
       "    .dataframe tbody tr th {\n",
       "        vertical-align: top;\n",
       "    }\n",
       "\n",
       "    .dataframe thead th {\n",
       "        text-align: right;\n",
       "    }\n",
       "</style>\n",
       "<table border=\"1\" class=\"dataframe\">\n",
       "  <thead>\n",
       "    <tr style=\"text-align: right;\">\n",
       "      <th></th>\n",
       "      <th>label</th>\n",
       "      <th>pixel0</th>\n",
       "      <th>pixel1</th>\n",
       "      <th>pixel2</th>\n",
       "      <th>pixel3</th>\n",
       "      <th>pixel4</th>\n",
       "      <th>pixel5</th>\n",
       "      <th>pixel6</th>\n",
       "      <th>pixel7</th>\n",
       "      <th>pixel8</th>\n",
       "      <th>...</th>\n",
       "      <th>pixel774</th>\n",
       "      <th>pixel775</th>\n",
       "      <th>pixel776</th>\n",
       "      <th>pixel777</th>\n",
       "      <th>pixel778</th>\n",
       "      <th>pixel779</th>\n",
       "      <th>pixel780</th>\n",
       "      <th>pixel781</th>\n",
       "      <th>pixel782</th>\n",
       "      <th>pixel783</th>\n",
       "    </tr>\n",
       "  </thead>\n",
       "  <tbody>\n",
       "    <tr>\n",
       "      <th>0</th>\n",
       "      <td>1.0</td>\n",
       "      <td>0.0</td>\n",
       "      <td>0.0</td>\n",
       "      <td>0.0</td>\n",
       "      <td>0.0</td>\n",
       "      <td>0.0</td>\n",
       "      <td>0.0</td>\n",
       "      <td>0.0</td>\n",
       "      <td>0.0</td>\n",
       "      <td>0.0</td>\n",
       "      <td>...</td>\n",
       "      <td>0.0</td>\n",
       "      <td>0.0</td>\n",
       "      <td>0.0</td>\n",
       "      <td>0.0</td>\n",
       "      <td>0.0</td>\n",
       "      <td>0.0</td>\n",
       "      <td>0.0</td>\n",
       "      <td>0.0</td>\n",
       "      <td>0.0</td>\n",
       "      <td>0.0</td>\n",
       "    </tr>\n",
       "    <tr>\n",
       "      <th>1</th>\n",
       "      <td>0.0</td>\n",
       "      <td>0.0</td>\n",
       "      <td>0.0</td>\n",
       "      <td>0.0</td>\n",
       "      <td>0.0</td>\n",
       "      <td>0.0</td>\n",
       "      <td>0.0</td>\n",
       "      <td>0.0</td>\n",
       "      <td>0.0</td>\n",
       "      <td>0.0</td>\n",
       "      <td>...</td>\n",
       "      <td>0.0</td>\n",
       "      <td>0.0</td>\n",
       "      <td>0.0</td>\n",
       "      <td>0.0</td>\n",
       "      <td>0.0</td>\n",
       "      <td>0.0</td>\n",
       "      <td>0.0</td>\n",
       "      <td>0.0</td>\n",
       "      <td>0.0</td>\n",
       "      <td>0.0</td>\n",
       "    </tr>\n",
       "    <tr>\n",
       "      <th>2</th>\n",
       "      <td>1.0</td>\n",
       "      <td>0.0</td>\n",
       "      <td>0.0</td>\n",
       "      <td>0.0</td>\n",
       "      <td>0.0</td>\n",
       "      <td>0.0</td>\n",
       "      <td>0.0</td>\n",
       "      <td>0.0</td>\n",
       "      <td>0.0</td>\n",
       "      <td>0.0</td>\n",
       "      <td>...</td>\n",
       "      <td>0.0</td>\n",
       "      <td>0.0</td>\n",
       "      <td>0.0</td>\n",
       "      <td>0.0</td>\n",
       "      <td>0.0</td>\n",
       "      <td>0.0</td>\n",
       "      <td>0.0</td>\n",
       "      <td>0.0</td>\n",
       "      <td>0.0</td>\n",
       "      <td>0.0</td>\n",
       "    </tr>\n",
       "    <tr>\n",
       "      <th>3</th>\n",
       "      <td>4.0</td>\n",
       "      <td>0.0</td>\n",
       "      <td>0.0</td>\n",
       "      <td>0.0</td>\n",
       "      <td>0.0</td>\n",
       "      <td>0.0</td>\n",
       "      <td>0.0</td>\n",
       "      <td>0.0</td>\n",
       "      <td>0.0</td>\n",
       "      <td>0.0</td>\n",
       "      <td>...</td>\n",
       "      <td>0.0</td>\n",
       "      <td>0.0</td>\n",
       "      <td>0.0</td>\n",
       "      <td>0.0</td>\n",
       "      <td>0.0</td>\n",
       "      <td>0.0</td>\n",
       "      <td>0.0</td>\n",
       "      <td>0.0</td>\n",
       "      <td>0.0</td>\n",
       "      <td>0.0</td>\n",
       "    </tr>\n",
       "    <tr>\n",
       "      <th>4</th>\n",
       "      <td>0.0</td>\n",
       "      <td>0.0</td>\n",
       "      <td>0.0</td>\n",
       "      <td>0.0</td>\n",
       "      <td>0.0</td>\n",
       "      <td>0.0</td>\n",
       "      <td>0.0</td>\n",
       "      <td>0.0</td>\n",
       "      <td>0.0</td>\n",
       "      <td>0.0</td>\n",
       "      <td>...</td>\n",
       "      <td>0.0</td>\n",
       "      <td>0.0</td>\n",
       "      <td>0.0</td>\n",
       "      <td>0.0</td>\n",
       "      <td>0.0</td>\n",
       "      <td>0.0</td>\n",
       "      <td>0.0</td>\n",
       "      <td>0.0</td>\n",
       "      <td>0.0</td>\n",
       "      <td>0.0</td>\n",
       "    </tr>\n",
       "  </tbody>\n",
       "</table>\n",
       "<p>5 rows × 785 columns</p>\n",
       "</div>"
      ],
      "text/plain": [
       "   label  pixel0  pixel1  pixel2  pixel3  pixel4  pixel5  pixel6  pixel7  \\\n",
       "0    1.0     0.0     0.0     0.0     0.0     0.0     0.0     0.0     0.0   \n",
       "1    0.0     0.0     0.0     0.0     0.0     0.0     0.0     0.0     0.0   \n",
       "2    1.0     0.0     0.0     0.0     0.0     0.0     0.0     0.0     0.0   \n",
       "3    4.0     0.0     0.0     0.0     0.0     0.0     0.0     0.0     0.0   \n",
       "4    0.0     0.0     0.0     0.0     0.0     0.0     0.0     0.0     0.0   \n",
       "\n",
       "   pixel8  ...  pixel774  pixel775  pixel776  pixel777  pixel778  pixel779  \\\n",
       "0     0.0  ...       0.0       0.0       0.0       0.0       0.0       0.0   \n",
       "1     0.0  ...       0.0       0.0       0.0       0.0       0.0       0.0   \n",
       "2     0.0  ...       0.0       0.0       0.0       0.0       0.0       0.0   \n",
       "3     0.0  ...       0.0       0.0       0.0       0.0       0.0       0.0   \n",
       "4     0.0  ...       0.0       0.0       0.0       0.0       0.0       0.0   \n",
       "\n",
       "   pixel780  pixel781  pixel782  pixel783  \n",
       "0       0.0       0.0       0.0       0.0  \n",
       "1       0.0       0.0       0.0       0.0  \n",
       "2       0.0       0.0       0.0       0.0  \n",
       "3       0.0       0.0       0.0       0.0  \n",
       "4       0.0       0.0       0.0       0.0  \n",
       "\n",
       "[5 rows x 785 columns]"
      ]
     },
     "execution_count": 153,
     "metadata": {},
     "output_type": "execute_result"
    }
   ],
   "source": [
    "train_df.head()"
   ]
  },
  {
   "cell_type": "code",
   "execution_count": 324,
   "id": "8e55f618-4e7c-404f-b2ad-8ba81c80d643",
   "metadata": {},
   "outputs": [],
   "source": [
    "class mnist_dataset(torch.utils.data.Dataset):\n",
    "    \n",
    "    def __init__(self, data, transform=None, linear=True):\n",
    "        self.data = data\n",
    "        self.transform = transform\n",
    "        self.linear = linear\n",
    "        \n",
    "    def __len__(self):\n",
    "        return self.data.shape[0]\n",
    "    \n",
    "    def __getitem__(self, idx):\n",
    "\n",
    "        img = self.data.iloc[idx].iloc[1:].div(255).to_numpy()\n",
    "        lbl = train_df.iloc[idx].label\n",
    "        \n",
    "        if not self.linear: img = img.reshape(1, 28, 28)\n",
    "            \n",
    "        if self.transform: img = self.transform(img)\n",
    "\n",
    "        return img, lbl"
   ]
  },
  {
   "cell_type": "code",
   "execution_count": 239,
   "id": "b0598e9b-73c1-4c0f-8bed-a8bf97a39b30",
   "metadata": {},
   "outputs": [
    {
     "name": "stdout",
     "output_type": "stream",
     "text": [
      "x torch.Size([2, 4]) (4, 1) True\n",
      "y torch.Size([8]) (1,) True\n",
      "w torch.Size([2, 4, 8]) (32, 8, 1) True\n",
      "z torch.Size([2, 2, 8]) (32, 16, 1) False\n",
      "z2 torch.Size([32]) (1,) True\n"
     ]
    }
   ],
   "source": [
    "#https://discuss.pytorch.org/t/whats-the-difference-between-torch-reshape-vs-torch-view/159172\n",
    "#reshape will return a view if possible and will trigger a copy otherwise as explained in the docs 108. If in doubt, you can use reshape if you do not explicitly expect a view of the tensor.\n",
    "#A view points to the same data stored in memory using a changed meta-data such as its shape and stride.\n",
    "x = torch.randn(2, 4); print('x', x.size(), x.stride(), x.is_contiguous())\n",
    "y = x.view(-1); print('y', y.size(), y.stride(), y.is_contiguous())\n",
    "\n",
    "w = torch.randn(2, 4, 8); print('w', w.size(), w.stride(), w.is_contiguous())\n",
    "z = w[:, ::2]; print('z', z.size(), z.stride(), z.is_contiguous())\n",
    "#z1 = z.view(-1) RuntimeError: view size is not compatible with input tensor's size...\n",
    "z2 = z.reshape(-1); print('z2', z2.size(), z2.stride(), z2.is_contiguous())"
   ]
  },
  {
   "cell_type": "code",
   "execution_count": 328,
   "id": "f8e2848b-3b8f-44c5-9c02-98cf966ba125",
   "metadata": {
    "scrolled": true
   },
   "outputs": [
    {
     "data": {
      "text/plain": [
       "tensor([[[0.0000, 0.0000, 0.0000, 0.0000, 0.0000, 0.0000, 0.0000, 0.0000,\n",
       "          0.0000, 0.0000, 0.0000, 0.0000, 0.0000, 0.0000, 0.0000, 0.0000,\n",
       "          0.0000, 0.0000, 0.0000, 0.0000, 0.0000, 0.0000, 0.0000, 0.0000,\n",
       "          0.0000, 0.0000, 0.0000, 0.0000],\n",
       "         [0.0000, 0.0000, 0.0000, 0.0000, 0.0000, 0.0000, 0.0000, 0.0000,\n",
       "          0.0000, 0.0000, 0.0000, 0.0000, 0.0000, 0.0000, 0.0000, 0.0000,\n",
       "          0.0000, 0.0000, 0.0000, 0.0000, 0.0000, 0.0000, 0.0000, 0.0000,\n",
       "          0.0000, 0.0000, 0.0000, 0.0000],\n",
       "         [0.0000, 0.0000, 0.0000, 0.0000, 0.0000, 0.0000, 0.0000, 0.0000,\n",
       "          0.0000, 0.0000, 0.0000, 0.0000, 0.0000, 0.0000, 0.0000, 0.0000,\n",
       "          0.0000, 0.0000, 0.0000, 0.0000, 0.0000, 0.0000, 0.0000, 0.0000,\n",
       "          0.0000, 0.0000, 0.0000, 0.0000],\n",
       "         [0.0000, 0.0000, 0.0000, 0.0000, 0.0000, 0.0000, 0.0000, 0.0000,\n",
       "          0.0000, 0.0000, 0.0000, 0.0000, 0.0000, 0.0000, 0.0000, 0.0000,\n",
       "          0.0000, 0.0000, 0.0000, 0.0000, 0.0000, 0.0000, 0.0000, 0.0000,\n",
       "          0.0000, 0.0000, 0.0000, 0.0000],\n",
       "         [0.0000, 0.0000, 0.0000, 0.0000, 0.0000, 0.0000, 0.0000, 0.0000,\n",
       "          0.0000, 0.0000, 0.0000, 0.0000, 0.0000, 0.0000, 0.0000, 0.0000,\n",
       "          0.0000, 0.0000, 0.0000, 0.0000, 0.7373, 1.0000, 0.3686, 0.0000,\n",
       "          0.0000, 0.0000, 0.0000, 0.0000],\n",
       "         [0.0000, 0.0000, 0.0000, 0.0000, 0.0000, 0.0000, 0.0000, 0.0000,\n",
       "          0.0000, 0.0000, 0.0000, 0.0000, 0.0000, 0.0000, 0.0000, 0.0000,\n",
       "          0.0000, 0.0000, 0.0000, 0.7490, 0.9804, 0.9922, 0.3647, 0.0000,\n",
       "          0.0000, 0.0000, 0.0000, 0.0000],\n",
       "         [0.0000, 0.0000, 0.0000, 0.0000, 0.0000, 0.0000, 0.0000, 0.0000,\n",
       "          0.0000, 0.0000, 0.0000, 0.0000, 0.0000, 0.0000, 0.0000, 0.0000,\n",
       "          0.0000, 0.0000, 0.4824, 0.9725, 0.9922, 0.6549, 0.0392, 0.0000,\n",
       "          0.0000, 0.0000, 0.0000, 0.0000],\n",
       "         [0.0000, 0.0000, 0.0000, 0.0000, 0.0000, 0.0000, 0.0000, 0.0000,\n",
       "          0.0000, 0.0000, 0.0000, 0.0000, 0.0000, 0.0000, 0.0000, 0.0000,\n",
       "          0.0000, 0.3137, 0.9686, 0.9922, 0.8157, 0.0510, 0.0000, 0.0000,\n",
       "          0.0000, 0.0000, 0.0000, 0.0000],\n",
       "         [0.0000, 0.0000, 0.0000, 0.0000, 0.0000, 0.0000, 0.0000, 0.0000,\n",
       "          0.0000, 0.0000, 0.0000, 0.0000, 0.0000, 0.0000, 0.0000, 0.0000,\n",
       "          0.1137, 0.8118, 0.9922, 0.9216, 0.3020, 0.0000, 0.0000, 0.0000,\n",
       "          0.0000, 0.0000, 0.0000, 0.0000],\n",
       "         [0.0000, 0.0000, 0.0000, 0.0000, 0.0000, 0.0000, 0.0000, 0.0000,\n",
       "          0.0000, 0.0000, 0.0000, 0.0000, 0.0000, 0.0000, 0.0000, 0.2118,\n",
       "          0.8196, 0.9922, 0.9922, 0.3451, 0.0000, 0.0000, 0.0000, 0.0000,\n",
       "          0.0000, 0.0000, 0.0000, 0.0000],\n",
       "         [0.0000, 0.0000, 0.0000, 0.0000, 0.0000, 0.0000, 0.0000, 0.0000,\n",
       "          0.0000, 0.0000, 0.0000, 0.0000, 0.0000, 0.0000, 0.3647, 0.9961,\n",
       "          0.9922, 0.9333, 0.6667, 0.0667, 0.0000, 0.0000, 0.0000, 0.0000,\n",
       "          0.0000, 0.0000, 0.0000, 0.0000],\n",
       "         [0.0000, 0.0000, 0.0000, 0.0000, 0.0000, 0.0000, 0.0000, 0.0000,\n",
       "          0.0000, 0.0000, 0.0000, 0.0000, 0.0000, 0.0902, 0.8235, 0.9961,\n",
       "          0.9922, 0.6235, 0.0000, 0.0000, 0.0000, 0.0000, 0.0000, 0.0000,\n",
       "          0.0000, 0.0000, 0.0000, 0.0000],\n",
       "         [0.0000, 0.0000, 0.0000, 0.0000, 0.0000, 0.0000, 0.0000, 0.0000,\n",
       "          0.0000, 0.0000, 0.0000, 0.0000, 0.0627, 0.8196, 0.9922, 0.9961,\n",
       "          0.9412, 0.3176, 0.0000, 0.0000, 0.0000, 0.0000, 0.0000, 0.0000,\n",
       "          0.0000, 0.0000, 0.0000, 0.0000],\n",
       "         [0.0000, 0.0000, 0.0000, 0.0000, 0.0000, 0.0000, 0.0000, 0.0000,\n",
       "          0.0000, 0.0000, 0.0000, 0.0000, 0.1059, 0.9922, 0.9922, 0.9961,\n",
       "          0.0510, 0.0000, 0.0000, 0.0000, 0.0000, 0.0000, 0.0000, 0.0000,\n",
       "          0.0000, 0.0000, 0.0000, 0.0000],\n",
       "         [0.0000, 0.0000, 0.0000, 0.0000, 0.0000, 0.0000, 0.0000, 0.0000,\n",
       "          0.0000, 0.0000, 0.0000, 0.0784, 0.8078, 0.9961, 0.9961, 0.7765,\n",
       "          0.0275, 0.0000, 0.0000, 0.0000, 0.0000, 0.0000, 0.0000, 0.0000,\n",
       "          0.0000, 0.0000, 0.0000, 0.0000],\n",
       "         [0.0000, 0.0000, 0.0000, 0.0000, 0.0000, 0.0000, 0.0000, 0.0000,\n",
       "          0.0000, 0.0000, 0.0000, 0.6588, 0.9922, 0.9922, 0.7686, 0.0275,\n",
       "          0.0000, 0.0000, 0.0000, 0.0000, 0.0000, 0.0000, 0.0000, 0.0000,\n",
       "          0.0000, 0.0000, 0.0000, 0.0000],\n",
       "         [0.0000, 0.0000, 0.0000, 0.0000, 0.0000, 0.0000, 0.0000, 0.0000,\n",
       "          0.0000, 0.0000, 0.0784, 0.7961, 0.9922, 0.9725, 0.2980, 0.0000,\n",
       "          0.0000, 0.0000, 0.0000, 0.0000, 0.0000, 0.0000, 0.0000, 0.0000,\n",
       "          0.0000, 0.0000, 0.0000, 0.0000],\n",
       "         [0.0000, 0.0000, 0.0000, 0.0000, 0.0000, 0.0000, 0.0000, 0.0000,\n",
       "          0.0000, 0.0863, 0.7373, 0.9922, 0.9608, 0.3647, 0.0000, 0.0000,\n",
       "          0.0000, 0.0000, 0.0000, 0.0000, 0.0000, 0.0000, 0.0000, 0.0000,\n",
       "          0.0000, 0.0000, 0.0000, 0.0000],\n",
       "         [0.0000, 0.0000, 0.0000, 0.0000, 0.0000, 0.0000, 0.0000, 0.0000,\n",
       "          0.0000, 0.4039, 0.9922, 0.9922, 0.7490, 0.0000, 0.0000, 0.0000,\n",
       "          0.0000, 0.0000, 0.0000, 0.0000, 0.0000, 0.0000, 0.0000, 0.0000,\n",
       "          0.0000, 0.0000, 0.0000, 0.0000],\n",
       "         [0.0000, 0.0000, 0.0000, 0.0000, 0.0000, 0.0000, 0.0000, 0.0000,\n",
       "          0.3490, 0.9412, 0.9922, 0.7647, 0.0980, 0.0000, 0.0000, 0.0000,\n",
       "          0.0000, 0.0000, 0.0000, 0.0000, 0.0000, 0.0000, 0.0000, 0.0000,\n",
       "          0.0000, 0.0000, 0.0000, 0.0000],\n",
       "         [0.0000, 0.0000, 0.0000, 0.0000, 0.0000, 0.0000, 0.0000, 0.0588,\n",
       "          0.8627, 0.9922, 0.9922, 0.3137, 0.0000, 0.0000, 0.0000, 0.0000,\n",
       "          0.0000, 0.0000, 0.0000, 0.0000, 0.0000, 0.0000, 0.0000, 0.0000,\n",
       "          0.0000, 0.0000, 0.0000, 0.0000],\n",
       "         [0.0000, 0.0000, 0.0000, 0.0000, 0.0000, 0.0000, 0.0000, 0.3686,\n",
       "          0.9922, 0.9922, 0.9922, 0.3686, 0.0000, 0.0000, 0.0000, 0.0000,\n",
       "          0.0000, 0.0000, 0.0000, 0.0000, 0.0000, 0.0000, 0.0000, 0.0000,\n",
       "          0.0000, 0.0000, 0.0000, 0.0000],\n",
       "         [0.0000, 0.0000, 0.0000, 0.0000, 0.0000, 0.0000, 0.0000, 0.3490,\n",
       "          0.9843, 0.9922, 0.9804, 0.5137, 0.0000, 0.0000, 0.0000, 0.0000,\n",
       "          0.0000, 0.0000, 0.0000, 0.0000, 0.0000, 0.0000, 0.0000, 0.0000,\n",
       "          0.0000, 0.0000, 0.0000, 0.0000],\n",
       "         [0.0000, 0.0000, 0.0000, 0.0000, 0.0000, 0.0000, 0.0000, 0.0000,\n",
       "          0.8392, 0.8549, 0.3725, 0.0000, 0.0000, 0.0000, 0.0000, 0.0000,\n",
       "          0.0000, 0.0000, 0.0000, 0.0000, 0.0000, 0.0000, 0.0000, 0.0000,\n",
       "          0.0000, 0.0000, 0.0000, 0.0000],\n",
       "         [0.0000, 0.0000, 0.0000, 0.0000, 0.0000, 0.0000, 0.0000, 0.0000,\n",
       "          0.0000, 0.0000, 0.0000, 0.0000, 0.0000, 0.0000, 0.0000, 0.0000,\n",
       "          0.0000, 0.0000, 0.0000, 0.0000, 0.0000, 0.0000, 0.0000, 0.0000,\n",
       "          0.0000, 0.0000, 0.0000, 0.0000],\n",
       "         [0.0000, 0.0000, 0.0000, 0.0000, 0.0000, 0.0000, 0.0000, 0.0000,\n",
       "          0.0000, 0.0000, 0.0000, 0.0000, 0.0000, 0.0000, 0.0000, 0.0000,\n",
       "          0.0000, 0.0000, 0.0000, 0.0000, 0.0000, 0.0000, 0.0000, 0.0000,\n",
       "          0.0000, 0.0000, 0.0000, 0.0000],\n",
       "         [0.0000, 0.0000, 0.0000, 0.0000, 0.0000, 0.0000, 0.0000, 0.0000,\n",
       "          0.0000, 0.0000, 0.0000, 0.0000, 0.0000, 0.0000, 0.0000, 0.0000,\n",
       "          0.0000, 0.0000, 0.0000, 0.0000, 0.0000, 0.0000, 0.0000, 0.0000,\n",
       "          0.0000, 0.0000, 0.0000, 0.0000],\n",
       "         [0.0000, 0.0000, 0.0000, 0.0000, 0.0000, 0.0000, 0.0000, 0.0000,\n",
       "          0.0000, 0.0000, 0.0000, 0.0000, 0.0000, 0.0000, 0.0000, 0.0000,\n",
       "          0.0000, 0.0000, 0.0000, 0.0000, 0.0000, 0.0000, 0.0000, 0.0000,\n",
       "          0.0000, 0.0000, 0.0000, 0.0000]]])"
      ]
     },
     "execution_count": 328,
     "metadata": {},
     "output_type": "execute_result"
    }
   ],
   "source": [
    "torch.from_numpy(train_df.iloc[0].iloc[1:].div(255).values).view(1, 28, 28)"
   ]
  },
  {
   "cell_type": "code",
   "execution_count": 329,
   "id": "73263976-5016-4a40-b9f6-e8a0f6118abe",
   "metadata": {},
   "outputs": [],
   "source": [
    "mnist_ds = mnist_dataset(train_df); len(train_data)\n",
    "mnist_ds_conv = mnist_dataset(train_df, linear=False)"
   ]
  },
  {
   "cell_type": "code",
   "execution_count": 168,
   "id": "e2bd6bd6-8041-4983-86fa-fc4a13b97869",
   "metadata": {},
   "outputs": [],
   "source": [
    "batch_size = 64\n",
    "validation_split = .2\n",
    "shuffle_dataset = True\n",
    "random_seed = 42\n",
    "\n",
    "generator = torch.Generator().manual_seed(random_seed)\n",
    "\n",
    "validation_size = int(len(mnist_ds) * validation_split)\n",
    "train_size = len(mnist_ds) - validation_size\n",
    "\n",
    "train_dataset, validation_dataset = torch.utils.data.random_split(\n",
    "    mnist_ds,\n",
    "    [train_size, validation_size],\n",
    "    generator=generator\n",
    ")\n",
    "\n",
    "train_dataloader = torch.utils.data.DataLoader(\n",
    "    train_dataset, \n",
    "    batch_size=batch_size, \n",
    "    shuffle=shuffle_dataset\n",
    ")\n",
    "validation_dataloader = torch.utils.data.DataLoader(\n",
    "    validation_dataset,\n",
    "    batch_size=batch_size,\n",
    "    shuffle=shuffle_dataset\n",
    ")"
   ]
  },
  {
   "cell_type": "code",
   "execution_count": 169,
   "id": "b2f92529-a839-4441-809c-270af0fef181",
   "metadata": {},
   "outputs": [
    {
     "name": "stdout",
     "output_type": "stream",
     "text": [
      "33600 8400\n"
     ]
    }
   ],
   "source": [
    "print(len(train_dataset), len(validation_dataset))"
   ]
  },
  {
   "cell_type": "code",
   "execution_count": 170,
   "id": "76c7dc3a-7f79-4e26-b967-690a260a19ff",
   "metadata": {
    "scrolled": true
   },
   "outputs": [
    {
     "name": "stdout",
     "output_type": "stream",
     "text": [
      "Feature batch shape: torch.Size([64, 784])\n",
      "Labels batch shape: torch.Size([64])\n",
      "Data in the batch: tensor([[0., 0., 0.,  ..., 0., 0., 0.],\n",
      "        [0., 0., 0.,  ..., 0., 0., 0.],\n",
      "        [0., 0., 0.,  ..., 0., 0., 0.],\n",
      "        ...,\n",
      "        [0., 0., 0.,  ..., 0., 0., 0.],\n",
      "        [0., 0., 0.,  ..., 0., 0., 0.],\n",
      "        [0., 0., 0.,  ..., 0., 0., 0.]])\n"
     ]
    }
   ],
   "source": [
    "train_features, train_labels = next(iter(train_dataloader))\n",
    "val_features, val_labels = next(iter(validation_dataloader))\n",
    "\n",
    "print(f'Feature batch shape: {train_features.size()}')\n",
    "print(f'Labels batch shape: {train_labels.size()}')\n",
    "print(f'Data in the batch: {train_features}')"
   ]
  },
  {
   "cell_type": "code",
   "execution_count": 330,
   "id": "b87fe90d-2e20-45b2-b393-1a5a54b57da6",
   "metadata": {},
   "outputs": [
    {
     "data": {
      "text/plain": [
       "tensor(7.)"
      ]
     },
     "execution_count": 330,
     "metadata": {},
     "output_type": "execute_result"
    },
    {
     "data": {
      "image/png": "[encoded data removed]",
      "text/plain": [
       "<Figure size 640x480 with 1 Axes>"
      ]
     },
     "metadata": {},
     "output_type": "display_data"
    }
   ],
   "source": [
    "plt.imshow(train_features[idx].reshape(28, 28, 1), cmap='gray'); train_labels[idx]"
   ]
  },
  {
   "cell_type": "code",
   "execution_count": 331,
   "id": "c2ff06b6-6859-4585-926d-ba8be1d4d8cd",
   "metadata": {},
   "outputs": [
    {
     "data": {
      "text/plain": [
       "tensor(8.)"
      ]
     },
     "execution_count": 331,
     "metadata": {},
     "output_type": "execute_result"
    },
    {
     "data": {
      "image/png": "[encoded data removed]",
      "text/plain": [
       "<Figure size 640x480 with 1 Axes>"
      ]
     },
     "metadata": {},
     "output_type": "display_data"
    }
   ],
   "source": [
    "plt.imshow(val_features[idx].reshape(28, 28, 1), cmap='gray'); val_labels[idx]"
   ]
  },
  {
   "cell_type": "code",
   "execution_count": 187,
   "id": "62ac739b-77c3-4452-aada-d0283bcdc565",
   "metadata": {},
   "outputs": [],
   "source": [
    "def train_model(model, train_loader, val_loader, loss, optimizer, num_epochs):\n",
    "    \n",
    "    #import ipdb; ipdb.set_trace()\n",
    "    \n",
    "    for epoch in range(num_epochs):\n",
    "        \n",
    "        model.train()\n",
    "\n",
    "        loss_accum = 0\n",
    "        correct_samples = 0\n",
    "        total_samples = 0\n",
    "\n",
    "        for i_step, (x, y) in enumerate(train_loader):\n",
    "            \n",
    "            x = x.to(device)\n",
    "            y = y.long().to(device)\n",
    "            \n",
    "            prediction = model(x)\n",
    "            loss_value = loss(prediction, y)\n",
    "            \n",
    "            loss_value.backward()\n",
    "            optimizer.step()\n",
    "            optimizer.zero_grad()\n",
    "            \n",
    "            _, indices = torch.max(prediction, 1)\n",
    "            correct_samples += torch.sum(indices == y)\n",
    "            total_samples += y.shape[0]\n",
    "\n",
    "            loss_accum += loss_value\n",
    "\n",
    "        ave_loss = loss_accum / i_step\n",
    "        train_acc = float(correct_samples) / total_samples\n",
    "        val_acc = compute_accuracy(model, val_loader)\n",
    "\n",
    "        print(\"Epoch: %i/%i, Average Loss: %f, Train acc: %f, Val acc: %f\" %\n",
    "            (epoch + 1, num_epochs, ave_loss, train_acc, val_acc)\n",
    "        )"
   ]
  },
  {
   "cell_type": "code",
   "execution_count": 188,
   "id": "8ff5ea26-b9f4-47ad-9a41-9eed8771c195",
   "metadata": {},
   "outputs": [],
   "source": [
    "def compute_accuracy(model, loader):\n",
    "\n",
    "    model.eval()\n",
    "    \n",
    "    correct_samples, total_samples = 0, 0\n",
    "\n",
    "    with torch.no_grad():\n",
    "\n",
    "        for i, (inputs, labels) in enumerate(loader):\n",
    "            x = inputs.to(device)\n",
    "            y = labels.to(device)\n",
    "\n",
    "            output = model(x)\n",
    "            prediction = torch.argmax(output, axis=1)\n",
    "        \n",
    "            correct_samples += torch.sum(prediction == y)\n",
    "            total_samples += y.shape[0]\n",
    "\n",
    "    return correct_samples / total_samples"
   ]
  },
  {
   "cell_type": "code",
   "execution_count": null,
   "id": "b8910268-a956-4537-8873-6ccebb3105bb",
   "metadata": {},
   "outputs": [],
   "source": [
    "#linear"
   ]
  },
  {
   "cell_type": "code",
   "execution_count": 207,
   "id": "3a52b4cc-549a-4765-a193-1d59caf37319",
   "metadata": {},
   "outputs": [],
   "source": [
    "model_0 = torch.nn.Linear(28 * 28, 10)\n",
    "loss = torch.nn.CrossEntropyLoss()\n",
    "optimizer = torch.optim.SGD(model_0.parameters(), lr=.5)"
   ]
  },
  {
   "cell_type": "code",
   "execution_count": 208,
   "id": "9baa5fa1-b90e-4e66-96aa-8f6cca1d505a",
   "metadata": {},
   "outputs": [
    {
     "name": "stdout",
     "output_type": "stream",
     "text": [
      "Epoch: 1/10, Average Loss: 0.408749, Train acc: 0.882381, Val acc: 0.906548\n",
      "Epoch: 2/10, Average Loss: 0.308169, Train acc: 0.911190, Val acc: 0.910119\n",
      "Epoch: 3/10, Average Loss: 0.290119, Train acc: 0.916964, Val acc: 0.911310\n",
      "Epoch: 4/10, Average Loss: 0.280228, Train acc: 0.920298, Val acc: 0.909405\n",
      "Epoch: 5/10, Average Loss: 0.272925, Train acc: 0.922589, Val acc: 0.912738\n",
      "Epoch: 6/10, Average Loss: 0.267821, Train acc: 0.923661, Val acc: 0.913333\n",
      "Epoch: 7/10, Average Loss: 0.263928, Train acc: 0.924345, Val acc: 0.915238\n",
      "Epoch: 8/10, Average Loss: 0.259738, Train acc: 0.925685, Val acc: 0.912976\n",
      "Epoch: 9/10, Average Loss: 0.256323, Train acc: 0.925923, Val acc: 0.909286\n",
      "Epoch: 10/10, Average Loss: 0.253960, Train acc: 0.927381, Val acc: 0.914048\n"
     ]
    }
   ],
   "source": [
    "train_model(model_0, train_dataloader, validation_dataloader, loss, optimizer, 10)"
   ]
  },
  {
   "cell_type": "code",
   "execution_count": 277,
   "id": "37505711-f560-4e5d-bffb-5bd5dca3f704",
   "metadata": {},
   "outputs": [],
   "source": [
    "#convs"
   ]
  },
  {
   "cell_type": "code",
   "execution_count": 332,
   "id": "ad595cb3-a16d-40b4-b983-ef3af3c02c55",
   "metadata": {},
   "outputs": [],
   "source": [
    "batch_size = 64\n",
    "validation_split = .2\n",
    "shuffle_dataset = True\n",
    "random_seed = 42\n",
    "\n",
    "generator = torch.Generator().manual_seed(random_seed)\n",
    "\n",
    "validation_size = int(len(mnist_ds_conv) * validation_split)\n",
    "train_size = len(mnist_ds_conv) - validation_size\n",
    "\n",
    "train_dataset_conv, validation_dataset_conv = torch.utils.data.random_split(\n",
    "    mnist_ds_conv,\n",
    "    [train_size, validation_size],\n",
    "    generator=generator\n",
    ")\n",
    "\n",
    "train_dataloader_conv = torch.utils.data.DataLoader(\n",
    "    train_dataset_conv, \n",
    "    batch_size=batch_size, \n",
    "    shuffle=shuffle_dataset\n",
    ")\n",
    "validation_dataloader_conv = torch.utils.data.DataLoader(\n",
    "    validation_dataset_conv,\n",
    "    batch_size=batch_size,\n",
    "    shuffle=shuffle_dataset\n",
    ")"
   ]
  },
  {
   "cell_type": "code",
   "execution_count": 333,
   "id": "9da880f5-9867-4ffe-8d89-3dbe910bb2dd",
   "metadata": {},
   "outputs": [
    {
     "data": {
      "text/plain": [
       "torch.Size([64, 1, 28, 28])"
      ]
     },
     "execution_count": 333,
     "metadata": {},
     "output_type": "execute_result"
    }
   ],
   "source": [
    "next(iter(train_dataloader_conv))[0].size()"
   ]
  },
  {
   "cell_type": "code",
   "execution_count": 335,
   "id": "670cddb2-d82b-4cf1-bce4-cdcb975cdc1a",
   "metadata": {},
   "outputs": [
    {
     "data": {
      "text/plain": [
       "<matplotlib.image.AxesImage at 0x7f1679bb7410>"
      ]
     },
     "execution_count": 335,
     "metadata": {},
     "output_type": "execute_result"
    },
    {
     "data": {
      "image/png": "[encoded data removed]",
      "text/plain": [
       "<Figure size 640x480 with 1 Axes>"
      ]
     },
     "metadata": {},
     "output_type": "display_data"
    }
   ],
   "source": [
    "plt.imshow(next(iter(train_dataloader_conv))[0][0].reshape(28, 28, 1), cmap='gray')"
   ]
  },
  {
   "cell_type": "code",
   "execution_count": 339,
   "id": "bc0e24f4-b833-4915-884f-318e06f0899c",
   "metadata": {},
   "outputs": [],
   "source": [
    "#lenet\n",
    "\n",
    "lr = 1e-1\n",
    "wd = 1e-4\n",
    "\n",
    "model_lenet = torch.nn.Sequential(\n",
    "    torch.nn.Conv2d(in_channels=1, out_channels=6, kernel_size=5, padding=0),\n",
    "    torch.nn.Tanh(),\n",
    "    torch.nn.AvgPool2d(2),\n",
    "    torch.nn.Conv2d(in_channels=6, out_channels=16, kernel_size=5, padding=0),\n",
    "    torch.nn.Tanh(),\n",
    "    torch.nn.AvgPool2d(2),\n",
    "\n",
    "    torch.nn.Flatten(),\n",
    "\n",
    "    torch.nn.Linear(256, 140),\n",
    "    torch.nn.Tanh(),\n",
    "    torch.nn.Linear(140, 84),\n",
    "    torch.nn.Tanh(),\n",
    "    torch.nn.Linear(84, 10)\n",
    ")\n",
    "\n",
    "loss = torch.nn.CrossEntropyLoss()\n",
    "optimizer = torch.optim.SGD(model_lenet.parameters(), lr=lr, weight_decay=wd)"
   ]
  },
  {
   "cell_type": "code",
   "execution_count": 340,
   "id": "96b69947-c09c-48a1-9254-2b5427564355",
   "metadata": {},
   "outputs": [
    {
     "name": "stdout",
     "output_type": "stream",
     "text": [
      "Epoch: 1/10, Average Loss: 0.714984, Train acc: 0.786220, Val acc: 0.912381\n",
      "Epoch: 2/10, Average Loss: 0.206552, Train acc: 0.937589, Val acc: 0.943929\n",
      "Epoch: 3/10, Average Loss: 0.127306, Train acc: 0.961280, Val acc: 0.961310\n",
      "Epoch: 4/10, Average Loss: 0.091647, Train acc: 0.971637, Val acc: 0.964405\n",
      "Epoch: 5/10, Average Loss: 0.074647, Train acc: 0.977232, Val acc: 0.972738\n",
      "Epoch: 6/10, Average Loss: 0.062168, Train acc: 0.980536, Val acc: 0.976548\n",
      "Epoch: 7/10, Average Loss: 0.055332, Train acc: 0.982768, Val acc: 0.977500\n",
      "Epoch: 8/10, Average Loss: 0.047802, Train acc: 0.985804, Val acc: 0.976429\n",
      "Epoch: 9/10, Average Loss: 0.042438, Train acc: 0.987827, Val acc: 0.979405\n",
      "Epoch: 10/10, Average Loss: 0.039645, Train acc: 0.988155, Val acc: 0.980238\n"
     ]
    }
   ],
   "source": [
    "train_model(model_lenet, train_dataloader_conv, validation_dataloader_conv, loss, optimizer, 10)"
   ]
  },
  {
   "cell_type": "code",
   "execution_count": null,
   "id": "7ea0fe4d-9347-4318-aacb-3be0fb790c1c",
   "metadata": {},
   "outputs": [],
   "source": []
  },
  {
   "cell_type": "code",
   "execution_count": 313,
   "id": "5001e6dd-ab84-4e88-9370-300b2d2e1bd5",
   "metadata": {},
   "outputs": [
    {
     "data": {
      "text/html": [
       "\n",
       "<style>\n",
       "    /* Turns off some styling */\n",
       "    progress {\n",
       "        /* gets rid of default border in Firefox and Opera. */\n",
       "        border: none;\n",
       "        /* Needs to be in here for Safari polyfill so background images work as expected. */\n",
       "        background-size: auto;\n",
       "    }\n",
       "    progress:not([value]), progress:not([value])::-webkit-progress-bar {\n",
       "        background: repeating-linear-gradient(45deg, #7e7e7e, #7e7e7e 10px, #5c5c5c 10px, #5c5c5c 20px);\n",
       "    }\n",
       "    .progress-bar-interrupted, .progress-bar-interrupted::-webkit-progress-bar {\n",
       "        background: #F44336;\n",
       "    }\n",
       "</style>\n"
      ],
      "text/plain": [
       "<IPython.core.display.HTML object>"
      ]
     },
     "metadata": {},
     "output_type": "display_data"
    },
    {
     "data": {
      "text/html": [
       "\n",
       "    <div>\n",
       "      <progress value='3219456' class='' max='3214948' style='width:300px; height:20px; vertical-align: middle;'></progress>\n",
       "      100.14% [3219456/3214948 00:00&lt;00:00]\n",
       "    </div>\n",
       "    "
      ],
      "text/plain": [
       "<IPython.core.display.HTML object>"
      ]
     },
     "metadata": {},
     "output_type": "display_data"
    },
    {
     "data": {
      "text/plain": [
       "Path('/home/gguser01/.fastai/data/mnist_sample')"
      ]
     },
     "execution_count": 313,
     "metadata": {},
     "output_type": "execute_result"
    }
   ],
   "source": [
    "import fastai.data.external\n",
    "fastai.data.external.untar_data(fastai.data.external.URLs.MNIST_SAMPLE)"
   ]
  },
  {
   "cell_type": "code",
   "execution_count": 873,
   "id": "3e41912d-97f5-43e2-afab-c8236b4dd110",
   "metadata": {},
   "outputs": [],
   "source": [
    "#.fastai/data/mnist_sample/train/3\n",
    "class mnist_dataset_sample(torch.utils.data.Dataset):\n",
    "\n",
    "    def __init__(self, path):\n",
    "        self.path = os.path.join(os.path.expanduser('~'), path)\n",
    "        self.dirs = [os.path.join(self.path, d) for d in os.listdir(self.path)]\n",
    "\n",
    "    def __len__(self):\n",
    "        return len()\n",
    "\n",
    "    def __iter__(self):\n",
    "        return 0"
   ]
  },
  {
   "cell_type": "code",
   "execution_count": 1215,
   "id": "8106cbce-da95-4a7d-9cb6-5b776a8be548",
   "metadata": {
    "scrolled": true
   },
   "outputs": [
    {
     "name": "stdout",
     "output_type": "stream",
     "text": [
      "input:  tensor([[ 0.0346,  0.0267, -0.2123, -0.6481,  0.9259],\n",
      "        [ 1.0343,  0.4491, -1.6670,  1.2065,  1.5386],\n",
      "        [-0.6469, -1.4950,  0.0094,  0.0120,  0.1097]], requires_grad=True)\n",
      "target:  tensor([[ 0.0346,  0.0268, -0.2123, -0.6483,  0.9262],\n",
      "        [ 1.0343,  0.4493, -1.6671,  1.2067,  1.5389],\n",
      "        [-0.6467, -1.4955,  0.0095,  0.0118,  0.1096]])\n",
      "gradient:  tensor([[ 5.3699e-06, -4.5101e-06, -3.2604e-06,  2.3381e-05, -3.8862e-05],\n",
      "        [-2.3842e-07, -2.3162e-05,  2.9103e-05, -3.4253e-05, -4.1819e-05],\n",
      "        [-3.0200e-05,  7.0318e-05, -1.1839e-05,  3.6920e-05,  7.3095e-06]])\n",
      "output:  tensor(5.1883e-08, grad_fn=<MseLossBackward0>)\n"
     ]
    }
   ],
   "source": [
    "#input = torch.randn(3, 5, requires_grad=True)\n",
    "#target = torch.randn(3, 5)\n",
    "\n",
    "#loss = torch.nn.L1Loss()\n",
    "loss = torch.nn.MSELoss()\n",
    "output = loss(input, target)\n",
    "output.backward()\n",
    "input.data -= input.grad * 1.\n",
    "\n",
    "print('input: ', input)\n",
    "print('target: ', target)\n",
    "print('gradient: ', input.grad)\n",
    "print('output: ', output)\n",
    "\n",
    "input.grad = None"
   ]
  },
  {
   "cell_type": "code",
   "execution_count": null,
   "id": "d4019b04-f189-4a14-9f78-dbd0736646dd",
   "metadata": {},
   "outputs": [],
   "source": []
  },
  {
   "cell_type": "code",
   "execution_count": 202,
   "id": "8a1b689f-e636-475b-8e7f-bcaa16069ec9",
   "metadata": {},
   "outputs": [
    {
     "name": "stdout",
     "output_type": "stream",
     "text": [
      "6131 6265\n",
      "torch.Size([6131, 28, 28]) torch.Size([6265, 28, 28])\n",
      "torch.Size([12396, 784]) torch.Size([12396])\n",
      "torch.Size([2038, 784]) torch.Size([2038])\n"
     ]
    }
   ],
   "source": [
    "import fastai.data.external\n",
    "\n",
    "path = fastai.data.external.untar_data(fastai.data.external.URLs.MNIST_SAMPLE)\n",
    "threes = (path/'train'/'3').ls().sorted()\n",
    "sevens = (path/'train'/'7').ls().sorted()\n",
    "\n",
    "seven_tensors = [torch.as_tensor(np.array(PIL.Image.open(o))) for o in sevens]\n",
    "three_tensors = [torch.as_tensor(np.array(PIL.Image.open(o))) for o in threes]\n",
    "print(len(three_tensors),len(seven_tensors))\n",
    "\n",
    "stacked_sevens = torch.stack(seven_tensors).float()/255\n",
    "stacked_threes = torch.stack(three_tensors).float()/255\n",
    "print(stacked_threes.shape, stacked_sevens.shape)\n",
    "\n",
    "train_x = torch.cat([stacked_threes, stacked_sevens]).view(-1, 28*28)\n",
    "train_y = torch.tensor([1]*len(threes) + [0]*len(sevens))#.unsqueeze(1)\n",
    "print(train_x.shape, train_y.shape)\n",
    "dset = list(zip(train_x, train_y))\n",
    "\n",
    "valid_3_tens = torch.stack([torch.tensor(np.array(PIL.Image.open(o))).float()/255 for o in (path/'valid'/'3').ls()])\n",
    "#valid_3_tens = valid_3_tens.float()/255\n",
    "valid_7_tens = torch.stack([torch.tensor(np.array(PIL.Image.open(o))).float()/255 for o in (path/'valid'/'7').ls()])\n",
    "#valid_7_tens = valid_7_tens.float()/255\n",
    "valid_x = torch.cat([valid_3_tens, valid_7_tens]).view(-1, 28*28)\n",
    "valid_y = torch.tensor([1]*len(valid_3_tens) + [0]*len(valid_7_tens))#.unsqueeze(1)\n",
    "print(valid_x.shape, valid_y.shape)\n",
    "valid_dset = list(zip(valid_x, valid_y))\n",
    "\n",
    "dl = torch.utils.data.DataLoader(dset, batch_size=256)\n",
    "valid_dl = torch.utils.data.DataLoader(valid_dset, batch_size=256)"
   ]
  },
  {
   "cell_type": "code",
   "execution_count": 146,
   "id": "a6bd94d0-23bb-4c0a-8d06-11521c1cf536",
   "metadata": {},
   "outputs": [],
   "source": [
    "#def mnist_loss(predictions, targets): return torch.where(targets==1, 1-predictions, predictions).mean()\n",
    "#def sigmoid(x): return 1/(1 + torch.exp(-x))\n",
    "\n",
    "def mnist_loss(predictions, targets):\n",
    "    predictions = predictions.sigmoid()\n",
    "    return torch.where(targets==1, 1-predictions, predictions).mean()\n",
    "\n",
    "def calc_grad(model, xb, yb):\n",
    "    preds = model(xb)\n",
    "    loss = mnist_loss(preds, yb)\n",
    "    loss.backward()\n",
    "    return loss\n",
    "\n",
    "def train_epoch(model, dl, optimizer):\n",
    "    accum_loss = list()\n",
    "    for xb, yb in dl:\n",
    "        loss = calc_grad(model, xb, yb)\n",
    "        optimizer.step()\n",
    "        optimizer.zero_grad()\n",
    "        accum_loss.append(loss.item())\n",
    "    print('loss: ', round(sum(accum_loss)/len(accum_loss), 4), end=' ')\n",
    "\n",
    "def batch_accuracy(xb, yb):\n",
    "    preds = xb.sigmoid()\n",
    "    correct = (preds > 0.5) == yb\n",
    "    return correct.float().mean()\n",
    "\n",
    "def validate_epoch(model, dl):\n",
    "    accum_accs = list()\n",
    "    accs = [batch_accuracy(model(x), y) for x, y in dl]\n",
    "    accum_accs.append(round(torch.stack(accs).mean().item(), 4))\n",
    "    print('accs: ', sum(accum_accs)/len(accum_accs))\n",
    "\n",
    "def train_model(model, dlt, dlv, optimizer, epochs):\n",
    "    for i in range(epochs):\n",
    "        train_epoch(model, dlt, optimizer)\n",
    "        validate_epoch(model, dlv)"
   ]
  },
  {
   "cell_type": "code",
   "execution_count": 203,
   "id": "4f1788c9-9a59-4c58-bc1c-f369be3c49f1",
   "metadata": {},
   "outputs": [
    {
     "ename": "TypeError",
     "evalue": "train_model() missing 1 required positional argument: 'num_epochs'",
     "output_type": "error",
     "traceback": [
      "\u001b[0;31m---------------------------------------------------------------------------\u001b[0m",
      "\u001b[0;31mTypeError\u001b[0m                                 Traceback (most recent call last)",
      "Cell \u001b[0;32mIn[203], line 3\u001b[0m\n\u001b[1;32m      1\u001b[0m linear_model \u001b[38;5;241m=\u001b[39m torch\u001b[38;5;241m.\u001b[39mnn\u001b[38;5;241m.\u001b[39mLinear(\u001b[38;5;241m28\u001b[39m \u001b[38;5;241m*\u001b[39m \u001b[38;5;241m28\u001b[39m, \u001b[38;5;241m1\u001b[39m)\n\u001b[1;32m      2\u001b[0m optimizer \u001b[38;5;241m=\u001b[39m torch\u001b[38;5;241m.\u001b[39moptim\u001b[38;5;241m.\u001b[39mSGD(linear_model\u001b[38;5;241m.\u001b[39mparameters(), lr\u001b[38;5;241m=\u001b[39m\u001b[38;5;241m1.\u001b[39m)\n\u001b[0;32m----> 3\u001b[0m \u001b[43mtrain_model\u001b[49m\u001b[43m(\u001b[49m\u001b[43mlinear_model\u001b[49m\u001b[43m,\u001b[49m\u001b[43m \u001b[49m\u001b[43mdl\u001b[49m\u001b[43m,\u001b[49m\u001b[43m \u001b[49m\u001b[43mvalid_dl\u001b[49m\u001b[43m,\u001b[49m\u001b[43m \u001b[49m\u001b[43moptimizer\u001b[49m\u001b[43m,\u001b[49m\u001b[43m \u001b[49m\u001b[38;5;241;43m20\u001b[39;49m\u001b[43m)\u001b[49m\n",
      "\u001b[0;31mTypeError\u001b[0m: train_model() missing 1 required positional argument: 'num_epochs'"
     ]
    }
   ],
   "source": [
    "linear_model = torch.nn.Linear(28 * 28, 1)\n",
    "optimizer = torch.optim.SGD(linear_model.parameters(), lr=1.)\n",
    "train_model(linear_model, dl, valid_dl, optimizer, 20)"
   ]
  },
  {
   "cell_type": "code",
   "execution_count": 204,
   "id": "f4c277e8-e026-4852-8818-f3c53bf9294e",
   "metadata": {},
   "outputs": [
    {
     "name": "stdout",
     "output_type": "stream",
     "text": [
      "Epoch: 1/20, Average Loss: 0.801035, Train acc: 0.960310, Val acc: 0.559372\n",
      "Epoch: 2/20, Average Loss: 0.548384, Train acc: 0.962730, Val acc: 0.925908\n",
      "Epoch: 3/20, Average Loss: 0.218620, Train acc: 0.976847, Val acc: 0.954858\n",
      "Epoch: 4/20, Average Loss: 0.157380, Train acc: 0.981123, Val acc: 0.959274\n",
      "Epoch: 5/20, Average Loss: 0.124084, Train acc: 0.983301, Val acc: 0.965653\n",
      "Epoch: 6/20, Average Loss: 0.101044, Train acc: 0.984430, Val acc: 0.967615\n",
      "Epoch: 7/20, Average Loss: 0.084923, Train acc: 0.985963, Val acc: 0.969087\n",
      "Epoch: 8/20, Average Loss: 0.073377, Train acc: 0.987577, Val acc: 0.970559\n",
      "Epoch: 9/20, Average Loss: 0.064505, Train acc: 0.988383, Val acc: 0.970559\n",
      "Epoch: 10/20, Average Loss: 0.057694, Train acc: 0.989271, Val acc: 0.972522\n",
      "Epoch: 11/20, Average Loss: 0.052072, Train acc: 0.990158, Val acc: 0.973013\n",
      "Epoch: 12/20, Average Loss: 0.047257, Train acc: 0.991045, Val acc: 0.973503\n",
      "Epoch: 13/20, Average Loss: 0.043102, Train acc: 0.991610, Val acc: 0.973013\n",
      "Epoch: 14/20, Average Loss: 0.039519, Train acc: 0.992175, Val acc: 0.972522\n",
      "Epoch: 15/20, Average Loss: 0.036441, Train acc: 0.992336, Val acc: 0.972522\n",
      "Epoch: 16/20, Average Loss: 0.033803, Train acc: 0.992336, Val acc: 0.973013\n",
      "Epoch: 17/20, Average Loss: 0.031541, Train acc: 0.992740, Val acc: 0.972522\n",
      "Epoch: 18/20, Average Loss: 0.029595, Train acc: 0.992982, Val acc: 0.972522\n",
      "Epoch: 19/20, Average Loss: 0.027923, Train acc: 0.993224, Val acc: 0.972522\n",
      "Epoch: 20/20, Average Loss: 0.026492, Train acc: 0.993304, Val acc: 0.972031\n"
     ]
    }
   ],
   "source": [
    "linear_model = torch.nn.Linear(28 * 28, 2)\n",
    "loss = torch.nn.CrossEntropyLoss()\n",
    "optimizer = torch.optim.SGD(linear_model.parameters(), lr=1.)\n",
    "\n",
    "train_model(linear_model, dl, valid_dl, loss, optimizer, 20)"
   ]
  },
  {
   "cell_type": "code",
   "execution_count": 145,
   "id": "a9c52905-c1ff-4627-9f3f-b6da013d4034",
   "metadata": {},
   "outputs": [
    {
     "name": "stdout",
     "output_type": "stream",
     "text": [
      "loss:  0.5043 accs:  0.0\n",
      "loss:  0.5013 accs:  0.0\n",
      "loss:  0.5019 accs:  0.0\n",
      "loss:  0.4993 accs:  0.0\n",
      "loss:  0.5002 accs:  0.0\n"
     ]
    }
   ],
   "source": [
    "linear_model = torch.nn.Linear(28 * 28, 1)\n",
    "optimizer = torch.optim.SGD(linear_model.parameters(), lr=1.)\n",
    "train_model(linear_model, train_dataloader, validation_dataloader, optimizer, 5)"
   ]
  },
  {
   "cell_type": "code",
   "execution_count": 123,
   "id": "0649cd1d-b23a-4f10-8843-35359e48cb91",
   "metadata": {},
   "outputs": [
    {
     "name": "stdout",
     "output_type": "stream",
     "text": [
      "tensor([0.1986]) 7.0\n",
      "tensor([0.0056]) 7.0\n",
      "tensor([0.3122]) 7.0\n",
      "tensor([0.6032]) 7.0\n",
      "tensor([0.2407]) 7.0\n",
      "tensor([0.4081]) 7.0\n",
      "tensor([0.2588]) 7.0\n",
      "tensor([0.7339]) 3.0\n",
      "tensor([0.1122]) 7.0\n",
      "tensor([0.2778]) 7.0\n",
      "tensor([0.1843]) 7.0\n",
      "tensor([0.2982]) 7.0\n",
      "tensor([0.4677]) 3.0\n",
      "tensor([0.4434]) 7.0\n",
      "tensor([0.9850]) 3.0\n",
      "tensor([0.1539]) 7.0\n",
      "tensor([0.7491]) 3.0\n",
      "tensor([0.7732]) 3.0\n",
      "tensor([0.8924]) 3.0\n",
      "tensor([0.3737]) 7.0\n"
     ]
    }
   ],
   "source": [
    "for idx in range(0, 20):\n",
    "    with torch.no_grad():\n",
    "        x, y = train_dataset[idx]\n",
    "        print(linear_model(torch.from_numpy(x)), y)"
   ]
  }
 ],
 "metadata": {
  "kernelspec": {
   "display_name": "fast.ai",
   "language": "python",
   "name": "fastai"
  },
  "language_info": {
   "codemirror_mode": {
    "name": "ipython",
    "version": 3
   },
   "file_extension": ".py",
   "mimetype": "text/x-python",
   "name": "python",
   "nbconvert_exporter": "python",
   "pygments_lexer": "ipython3",
   "version": "3.11.2"
  }
 },
 "nbformat": 4,
 "nbformat_minor": 5
}
